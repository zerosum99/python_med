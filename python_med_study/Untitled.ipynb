{
 "cells": [
  {
   "cell_type": "code",
   "execution_count": 1,
   "id": "08b57472",
   "metadata": {},
   "outputs": [
    {
     "name": "stdout",
     "output_type": "stream",
     "text": [
      "Collecting pyright\n",
      "  Downloading pyright-1.1.311-py3-none-any.whl (17 kB)\n",
      "Collecting nodeenv>=1.6.0 (from pyright)\n",
      "  Downloading nodeenv-1.8.0-py2.py3-none-any.whl (22 kB)\n",
      "Requirement already satisfied: setuptools in /Users/a06411/opt/anaconda3/envs/fluentPython/lib/python3.11/site-packages (from nodeenv>=1.6.0->pyright) (67.7.2)\n",
      "Installing collected packages: nodeenv, pyright\n",
      "Successfully installed nodeenv-1.8.0 pyright-1.1.311\n",
      "Note: you may need to restart the kernel to use updated packages.\n"
     ]
    }
   ],
   "source": [
    "pip install pyright"
   ]
  },
  {
   "cell_type": "markdown",
   "id": "acc50eed",
   "metadata": {},
   "source": [
    "## 1. 딕셔너리 병합\n",
    "\n",
    "- 두 개의 딕셔너리를 키단위로 결합\n",
    "- 키가 같을 경우 두번째 값으로 갱신"
   ]
  },
  {
   "cell_type": "markdown",
   "id": "c9f0b4af",
   "metadata": {},
   "source": [
    "## 연산자 방식 "
   ]
  },
  {
   "cell_type": "code",
   "execution_count": 3,
   "id": "ca69a611",
   "metadata": {},
   "outputs": [
    {
     "data": {
      "text/plain": [
       "{'a': 10, 'b': 2}"
      ]
     },
     "execution_count": 3,
     "metadata": {},
     "output_type": "execute_result"
    }
   ],
   "source": [
    "{'a' : 1} | {'a':10, \"b\":2}  # 신방식 "
   ]
  },
  {
   "cell_type": "markdown",
   "id": "c5d96e51",
   "metadata": {},
   "source": [
    "## 메서드 처리방식 "
   ]
  },
  {
   "cell_type": "code",
   "execution_count": 4,
   "id": "306a772c",
   "metadata": {},
   "outputs": [],
   "source": [
    "mydict = {'a' : 1}"
   ]
  },
  {
   "cell_type": "code",
   "execution_count": 5,
   "id": "7cbcc8df",
   "metadata": {},
   "outputs": [],
   "source": [
    "hedict = {'a':10, \"b\":2}"
   ]
  },
  {
   "cell_type": "code",
   "execution_count": 6,
   "id": "70fa28ad",
   "metadata": {},
   "outputs": [],
   "source": [
    "mydict.update(hedict)    # 예전 방식 "
   ]
  },
  {
   "cell_type": "code",
   "execution_count": 7,
   "id": "5a99c57f",
   "metadata": {},
   "outputs": [
    {
     "data": {
      "text/plain": [
       "{'a': 10, 'b': 2}"
      ]
     },
     "execution_count": 7,
     "metadata": {},
     "output_type": "execute_result"
    }
   ],
   "source": [
    "mydict"
   ]
  },
  {
   "cell_type": "markdown",
   "id": "91618652",
   "metadata": {},
   "source": [
    "## 언패킹으로 처리 "
   ]
  },
  {
   "cell_type": "code",
   "execution_count": 8,
   "id": "64971be6",
   "metadata": {},
   "outputs": [],
   "source": [
    "mydict = {'a' : 1}"
   ]
  },
  {
   "cell_type": "code",
   "execution_count": 9,
   "id": "99e51114",
   "metadata": {},
   "outputs": [],
   "source": [
    "hedict = {'a':10, \"b\":2}"
   ]
  },
  {
   "cell_type": "code",
   "execution_count": 10,
   "id": "e4ddf90a",
   "metadata": {},
   "outputs": [
    {
     "data": {
      "text/plain": [
       "{'a': 10, 'b': 2}"
      ]
     },
     "execution_count": 10,
     "metadata": {},
     "output_type": "execute_result"
    }
   ],
   "source": [
    "{**mydict, **hedict}"
   ]
  },
  {
   "cell_type": "markdown",
   "id": "7d80af14",
   "metadata": {},
   "source": [
    "## 모듈 사용"
   ]
  },
  {
   "cell_type": "code",
   "execution_count": 11,
   "id": "4f8ba0e8",
   "metadata": {},
   "outputs": [],
   "source": [
    "import collections"
   ]
  },
  {
   "cell_type": "code",
   "execution_count": 23,
   "id": "2130461e",
   "metadata": {},
   "outputs": [],
   "source": [
    "mm = collections.ChainMap(hedict,mydict)"
   ]
  },
  {
   "cell_type": "code",
   "execution_count": 24,
   "id": "2dab4616",
   "metadata": {},
   "outputs": [
    {
     "data": {
      "text/plain": [
       "ValuesView(ChainMap({'a': 10, 'b': 2}, {'a': 1}))"
      ]
     },
     "execution_count": 24,
     "metadata": {},
     "output_type": "execute_result"
    }
   ],
   "source": [
    "mm.values()"
   ]
  },
  {
   "cell_type": "code",
   "execution_count": 25,
   "id": "cca04087",
   "metadata": {},
   "outputs": [
    {
     "data": {
      "text/plain": [
       "10"
      ]
     },
     "execution_count": 25,
     "metadata": {},
     "output_type": "execute_result"
    }
   ],
   "source": [
    "mm['a']"
   ]
  },
  {
   "cell_type": "code",
   "execution_count": 26,
   "id": "8485fd17",
   "metadata": {},
   "outputs": [
    {
     "data": {
      "text/plain": [
       "2"
      ]
     },
     "execution_count": 26,
     "metadata": {},
     "output_type": "execute_result"
    }
   ],
   "source": [
    "mm['b']"
   ]
  },
  {
   "cell_type": "code",
   "execution_count": 27,
   "id": "0d5c0b0a",
   "metadata": {},
   "outputs": [
    {
     "data": {
      "text/plain": [
       "{'a': 10, 'b': 2}"
      ]
     },
     "execution_count": 27,
     "metadata": {},
     "output_type": "execute_result"
    }
   ],
   "source": [
    "dict(mm)"
   ]
  },
  {
   "cell_type": "code",
   "execution_count": null,
   "id": "ba06259e",
   "metadata": {},
   "outputs": [],
   "source": []
  }
 ],
 "metadata": {
  "kernelspec": {
   "display_name": "Python 3 (ipykernel)",
   "language": "python",
   "name": "python3"
  },
  "language_info": {
   "codemirror_mode": {
    "name": "ipython",
    "version": 3
   },
   "file_extension": ".py",
   "mimetype": "text/x-python",
   "name": "python",
   "nbconvert_exporter": "python",
   "pygments_lexer": "ipython3",
   "version": "3.11.3"
  }
 },
 "nbformat": 4,
 "nbformat_minor": 5
}
