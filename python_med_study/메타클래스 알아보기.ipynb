{
 "cells": [
  {
   "cell_type": "markdown",
   "id": "ae749bb3",
   "metadata": {},
   "source": [
    "# 메타 클래스 알아보기 "
   ]
  },
  {
   "cell_type": "code",
   "execution_count": null,
   "id": "6c7f5ab4",
   "metadata": {},
   "outputs": [],
   "source": [
    "## 1-1 사용자 정의 메타클리스 정의하고 클래스 속성을 추가하기\n",
    "\n",
    "- __init__에서 추가할 경우 속성이 갱신되지 않아서 __new__에서 갱신시킴"
   ]
  },
  {
   "cell_type": "code",
   "execution_count": 53,
   "id": "7862a1cd",
   "metadata": {},
   "outputs": [],
   "source": [
    "class MyMeta(type):\n",
    "    def __new__(cls, name, bases, attrs):\n",
    "        attrs['new_attribute'] = 'This is a new attribute'\n",
    "        return super().__new__(cls, name, bases, attrs)\n"
   ]
  },
  {
   "cell_type": "code",
   "execution_count": 54,
   "id": "928a2722",
   "metadata": {},
   "outputs": [],
   "source": [
    "\n",
    "# 메타클래스를 사용하여 클래스 정의\n",
    "class MyClass(object,metaclass=MyMeta):\n",
    "    existing_attribute = 'This is an existing attribute'"
   ]
  },
  {
   "cell_type": "code",
   "execution_count": 55,
   "id": "1e3102e9",
   "metadata": {},
   "outputs": [
    {
     "data": {
      "text/plain": [
       "mappingproxy({'__module__': '__main__',\n",
       "              'existing_attribute': 'This is an existing attribute',\n",
       "              'new_attribute': 'This is a new attribute',\n",
       "              '__dict__': <attribute '__dict__' of 'MyClass' objects>,\n",
       "              '__weakref__': <attribute '__weakref__' of 'MyClass' objects>,\n",
       "              '__doc__': None})"
      ]
     },
     "execution_count": 55,
     "metadata": {},
     "output_type": "execute_result"
    }
   ],
   "source": [
    "MyClass.__dict__"
   ]
  },
  {
   "cell_type": "code",
   "execution_count": 56,
   "id": "0fce6248",
   "metadata": {},
   "outputs": [],
   "source": [
    "# 클래스 인스턴스 생성\n",
    "obj = MyClass()"
   ]
  },
  {
   "cell_type": "code",
   "execution_count": 57,
   "id": "815b80af",
   "metadata": {},
   "outputs": [
    {
     "name": "stdout",
     "output_type": "stream",
     "text": [
      "This is an existing attribute\n",
      "This is a new attribute\n"
     ]
    }
   ],
   "source": [
    "# 속성 출력\n",
    "print(obj.existing_attribute)  # 출력: This is an existing attribute\n",
    "print(obj.new_attribute)       # 출력: This is a new attribute"
   ]
  },
  {
   "cell_type": "code",
   "execution_count": null,
   "id": "156a9865",
   "metadata": {},
   "outputs": [],
   "source": []
  },
  {
   "cell_type": "code",
   "execution_count": 48,
   "id": "667bd437",
   "metadata": {},
   "outputs": [],
   "source": [
    "YourClass = type('YourClass',(object,),{'new_attribute': 'This is a new arrtirbute'})"
   ]
  },
  {
   "cell_type": "code",
   "execution_count": 49,
   "id": "35bb7d8a",
   "metadata": {},
   "outputs": [
    {
     "data": {
      "text/plain": [
       "mappingproxy({'new_attribute': 'This is a new arrtirbute',\n",
       "              '__module__': '__main__',\n",
       "              '__dict__': <attribute '__dict__' of 'YourClass' objects>,\n",
       "              '__weakref__': <attribute '__weakref__' of 'YourClass' objects>,\n",
       "              '__doc__': None})"
      ]
     },
     "execution_count": 49,
     "metadata": {},
     "output_type": "execute_result"
    }
   ],
   "source": [
    "YourClass.__dict__"
   ]
  },
  {
   "cell_type": "code",
   "execution_count": 12,
   "id": "efa2f682",
   "metadata": {},
   "outputs": [
    {
     "data": {
      "text/plain": [
       "mappingproxy({'__module__': '__main__',\n",
       "              'existing_attribute': 'This is an existing attribute',\n",
       "              '__dict__': <attribute '__dict__' of 'MyClass' objects>,\n",
       "              '__weakref__': <attribute '__weakref__' of 'MyClass' objects>,\n",
       "              '__doc__': None})"
      ]
     },
     "execution_count": 12,
     "metadata": {},
     "output_type": "execute_result"
    }
   ],
   "source": [
    "MyClass.__dict__"
   ]
  },
  {
   "cell_type": "code",
   "execution_count": 4,
   "id": "f448532a",
   "metadata": {},
   "outputs": [
    {
     "data": {
      "text/plain": [
       "{}"
      ]
     },
     "execution_count": 4,
     "metadata": {},
     "output_type": "execute_result"
    }
   ],
   "source": [
    "obj.__dict__"
   ]
  },
  {
   "cell_type": "code",
   "execution_count": 5,
   "id": "ec03f969",
   "metadata": {},
   "outputs": [
    {
     "data": {
      "text/plain": [
       "mappingproxy({'__module__': '__main__',\n",
       "              '__init__': <function __main__.MyMeta.__init__(cls, name, bases, attrs)>,\n",
       "              '__doc__': None})"
      ]
     },
     "execution_count": 5,
     "metadata": {},
     "output_type": "execute_result"
    }
   ],
   "source": [
    "MyMeta.__dict__"
   ]
  },
  {
   "cell_type": "code",
   "execution_count": 6,
   "id": "ab7a0f1d",
   "metadata": {},
   "outputs": [
    {
     "data": {
      "text/plain": [
       "mappingproxy({'__new__': <function type.__new__(*args, **kwargs)>,\n",
       "              '__repr__': <slot wrapper '__repr__' of 'type' objects>,\n",
       "              '__call__': <slot wrapper '__call__' of 'type' objects>,\n",
       "              '__getattribute__': <slot wrapper '__getattribute__' of 'type' objects>,\n",
       "              '__setattr__': <slot wrapper '__setattr__' of 'type' objects>,\n",
       "              '__delattr__': <slot wrapper '__delattr__' of 'type' objects>,\n",
       "              '__init__': <slot wrapper '__init__' of 'type' objects>,\n",
       "              '__or__': <slot wrapper '__or__' of 'type' objects>,\n",
       "              '__ror__': <slot wrapper '__ror__' of 'type' objects>,\n",
       "              'mro': <method 'mro' of 'type' objects>,\n",
       "              '__subclasses__': <method '__subclasses__' of 'type' objects>,\n",
       "              '__prepare__': <method '__prepare__' of 'type' objects>,\n",
       "              '__instancecheck__': <method '__instancecheck__' of 'type' objects>,\n",
       "              '__subclasscheck__': <method '__subclasscheck__' of 'type' objects>,\n",
       "              '__dir__': <method '__dir__' of 'type' objects>,\n",
       "              '__sizeof__': <method '__sizeof__' of 'type' objects>,\n",
       "              '__basicsize__': <member '__basicsize__' of 'type' objects>,\n",
       "              '__itemsize__': <member '__itemsize__' of 'type' objects>,\n",
       "              '__flags__': <member '__flags__' of 'type' objects>,\n",
       "              '__weakrefoffset__': <member '__weakrefoffset__' of 'type' objects>,\n",
       "              '__base__': <member '__base__' of 'type' objects>,\n",
       "              '__dictoffset__': <member '__dictoffset__' of 'type' objects>,\n",
       "              '__mro__': <member '__mro__' of 'type' objects>,\n",
       "              '__name__': <attribute '__name__' of 'type' objects>,\n",
       "              '__qualname__': <attribute '__qualname__' of 'type' objects>,\n",
       "              '__bases__': <attribute '__bases__' of 'type' objects>,\n",
       "              '__module__': <attribute '__module__' of 'type' objects>,\n",
       "              '__abstractmethods__': <attribute '__abstractmethods__' of 'type' objects>,\n",
       "              '__dict__': <attribute '__dict__' of 'type' objects>,\n",
       "              '__doc__': <attribute '__doc__' of 'type' objects>,\n",
       "              '__text_signature__': <attribute '__text_signature__' of 'type' objects>,\n",
       "              '__annotations__': <attribute '__annotations__' of 'type' objects>})"
      ]
     },
     "execution_count": 6,
     "metadata": {},
     "output_type": "execute_result"
    }
   ],
   "source": [
    "type.__dict__"
   ]
  },
  {
   "cell_type": "code",
   "execution_count": null,
   "id": "b4976865",
   "metadata": {},
   "outputs": [],
   "source": []
  }
 ],
 "metadata": {
  "kernelspec": {
   "display_name": "Python 3 (ipykernel)",
   "language": "python",
   "name": "python3"
  },
  "language_info": {
   "codemirror_mode": {
    "name": "ipython",
    "version": 3
   },
   "file_extension": ".py",
   "mimetype": "text/x-python",
   "name": "python",
   "nbconvert_exporter": "python",
   "pygments_lexer": "ipython3",
   "version": "3.11.3"
  }
 },
 "nbformat": 4,
 "nbformat_minor": 5
}
