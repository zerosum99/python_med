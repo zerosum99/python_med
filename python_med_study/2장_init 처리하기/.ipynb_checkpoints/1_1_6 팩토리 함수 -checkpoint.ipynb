{
 "cells": [
  {
   "cell_type": "code",
   "execution_count": null,
   "id": "22f6a355",
   "metadata": {},
   "outputs": [],
   "source": []
  },
  {
   "cell_type": "code",
   "execution_count": 6,
   "id": "c3475179",
   "metadata": {},
   "outputs": [],
   "source": [
    "# %load Card.py\n",
    "from typing import Tuple\n",
    "import enum\n",
    "\n",
    "class Card :\n",
    "    def __init__(self, rank:str, suit:str) -> None :\n",
    "        self.rank = rank\n",
    "        self.suit = suit\n",
    "        self.hard, self.soft = self._points()   # 내부에서 호출하는 메서드\n",
    "        \n",
    "    def _points(self) -> Tuple[int,int] :\n",
    "        return int(self.rank), int(self.rank)\n",
    "    \n",
    "class AceCard(Card) :\n",
    "    def _points(self) -> Tuple[int,int] :\n",
    "        return 1,11\n",
    "    \n",
    "class FaceCard(Card) :\n",
    "    def _points(self) -> Tuple[int,int] :\n",
    "        return 10,10\n",
    "    \n",
    "class Suit (str, enum.Enum) :\n",
    "    Club = \"♣️\"\n",
    "    Diamond = \"♦️\"\n",
    "    Heart=\"❤️ \"\n",
    "    Spade = \"♠️\""
   ]
  },
  {
   "cell_type": "code",
   "execution_count": null,
   "id": "6afe191d",
   "metadata": {},
   "outputs": [],
   "source": []
  },
  {
   "cell_type": "code",
   "execution_count": 10,
   "id": "6ba477ec",
   "metadata": {},
   "outputs": [],
   "source": [
    "def card(rank:int, suit:Suit) -> Card :\n",
    "    if rank == 1 :\n",
    "        return AceCard('A', suit)\n",
    "    elif 2 <= rank < 11 :\n",
    "        return Card(str(rank), suit)\n",
    "    else :\n",
    "        name = { 11:'J', 12:\"Q\", 13 : \"K\"}[rank]\n",
    "        return FaceCard(name, suit)"
   ]
  },
  {
   "cell_type": "code",
   "execution_count": null,
   "id": "23729215",
   "metadata": {},
   "outputs": [],
   "source": []
  },
  {
   "cell_type": "code",
   "execution_count": 11,
   "id": "1b15b4f6",
   "metadata": {},
   "outputs": [],
   "source": [
    "deck = [card(rank,suit) for rank in range(1,14) for suit in iter(Suit)]"
   ]
  },
  {
   "cell_type": "code",
   "execution_count": 14,
   "id": "82048674",
   "metadata": {},
   "outputs": [
    {
     "data": {
      "text/plain": [
       "52"
      ]
     },
     "execution_count": 14,
     "metadata": {},
     "output_type": "execute_result"
    }
   ],
   "source": [
    "len(deck)"
   ]
  },
  {
   "cell_type": "code",
   "execution_count": 20,
   "id": "e814068c",
   "metadata": {},
   "outputs": [
    {
     "name": "stdout",
     "output_type": "stream",
     "text": [
      "A Suit.Club\n",
      "A Suit.Diamond\n",
      "A Suit.Heart\n",
      "A Suit.Spade\n",
      "2 Suit.Club\n",
      "2 Suit.Diamond\n",
      "2 Suit.Heart\n",
      "2 Suit.Spade\n",
      "3 Suit.Club\n",
      "3 Suit.Diamond\n",
      "3 Suit.Heart\n",
      "3 Suit.Spade\n",
      "4 Suit.Club\n",
      "4 Suit.Diamond\n",
      "4 Suit.Heart\n",
      "4 Suit.Spade\n",
      "5 Suit.Club\n",
      "5 Suit.Diamond\n",
      "5 Suit.Heart\n",
      "5 Suit.Spade\n",
      "6 Suit.Club\n",
      "6 Suit.Diamond\n",
      "6 Suit.Heart\n",
      "6 Suit.Spade\n",
      "7 Suit.Club\n",
      "7 Suit.Diamond\n",
      "7 Suit.Heart\n",
      "7 Suit.Spade\n",
      "8 Suit.Club\n",
      "8 Suit.Diamond\n",
      "8 Suit.Heart\n",
      "8 Suit.Spade\n",
      "9 Suit.Club\n",
      "9 Suit.Diamond\n",
      "9 Suit.Heart\n",
      "9 Suit.Spade\n",
      "10 Suit.Club\n",
      "10 Suit.Diamond\n",
      "10 Suit.Heart\n",
      "10 Suit.Spade\n",
      "J Suit.Club\n",
      "J Suit.Diamond\n",
      "J Suit.Heart\n",
      "J Suit.Spade\n",
      "Q Suit.Club\n",
      "Q Suit.Diamond\n",
      "Q Suit.Heart\n",
      "Q Suit.Spade\n",
      "K Suit.Club\n",
      "K Suit.Diamond\n",
      "K Suit.Heart\n",
      "K Suit.Spade\n"
     ]
    }
   ],
   "source": [
    "for d in deck:\n",
    "    print(d.rank, d.suit)"
   ]
  },
  {
   "cell_type": "code",
   "execution_count": null,
   "id": "9b277ec4",
   "metadata": {},
   "outputs": [],
   "source": []
  },
  {
   "cell_type": "code",
   "execution_count": null,
   "id": "932d9861",
   "metadata": {},
   "outputs": [],
   "source": []
  },
  {
   "cell_type": "code",
   "execution_count": 15,
   "id": "fbde3df3",
   "metadata": {},
   "outputs": [],
   "source": [
    "def cardMap(rank : int, suit: Suit) -> Card :\n",
    "    class_ = { 1 : AceCard, 11: FaceCard, 12: FaceCard, 13: FaceCard}.get(rank, Card)\n",
    "    return class_(str(rank), suit)"
   ]
  },
  {
   "cell_type": "code",
   "execution_count": 16,
   "id": "6e2a9d64",
   "metadata": {},
   "outputs": [],
   "source": [
    "deck_1  = [cardMap(rank,suit) for rank in range(1,14) for suit in iter(Suit)]"
   ]
  },
  {
   "cell_type": "code",
   "execution_count": 18,
   "id": "da843231",
   "metadata": {},
   "outputs": [
    {
     "data": {
      "text/plain": [
       "52"
      ]
     },
     "execution_count": 18,
     "metadata": {},
     "output_type": "execute_result"
    }
   ],
   "source": [
    "len(deck_1)"
   ]
  },
  {
   "cell_type": "code",
   "execution_count": 19,
   "id": "72467d2c",
   "metadata": {},
   "outputs": [
    {
     "name": "stdout",
     "output_type": "stream",
     "text": [
      "1 Suit.Club\n",
      "1 Suit.Diamond\n",
      "1 Suit.Heart\n",
      "1 Suit.Spade\n",
      "2 Suit.Club\n",
      "2 Suit.Diamond\n",
      "2 Suit.Heart\n",
      "2 Suit.Spade\n",
      "3 Suit.Club\n",
      "3 Suit.Diamond\n",
      "3 Suit.Heart\n",
      "3 Suit.Spade\n",
      "4 Suit.Club\n",
      "4 Suit.Diamond\n",
      "4 Suit.Heart\n",
      "4 Suit.Spade\n",
      "5 Suit.Club\n",
      "5 Suit.Diamond\n",
      "5 Suit.Heart\n",
      "5 Suit.Spade\n",
      "6 Suit.Club\n",
      "6 Suit.Diamond\n",
      "6 Suit.Heart\n",
      "6 Suit.Spade\n",
      "7 Suit.Club\n",
      "7 Suit.Diamond\n",
      "7 Suit.Heart\n",
      "7 Suit.Spade\n",
      "8 Suit.Club\n",
      "8 Suit.Diamond\n",
      "8 Suit.Heart\n",
      "8 Suit.Spade\n",
      "9 Suit.Club\n",
      "9 Suit.Diamond\n",
      "9 Suit.Heart\n",
      "9 Suit.Spade\n",
      "10 Suit.Club\n",
      "10 Suit.Diamond\n",
      "10 Suit.Heart\n",
      "10 Suit.Spade\n",
      "11 Suit.Club\n",
      "11 Suit.Diamond\n",
      "11 Suit.Heart\n",
      "11 Suit.Spade\n",
      "12 Suit.Club\n",
      "12 Suit.Diamond\n",
      "12 Suit.Heart\n",
      "12 Suit.Spade\n",
      "13 Suit.Club\n",
      "13 Suit.Diamond\n",
      "13 Suit.Heart\n",
      "13 Suit.Spade\n"
     ]
    }
   ],
   "source": [
    "for d in deck_1:\n",
    "    print(d.rank, d.suit)"
   ]
  },
  {
   "cell_type": "code",
   "execution_count": 21,
   "id": "f10a7920",
   "metadata": {},
   "outputs": [],
   "source": [
    "def cardMap2(rank : int, suit: Suit) -> Card :\n",
    "    class_ = { 1 : AceCard, 11: FaceCard, 12: FaceCard, 13: FaceCard}.get(rank, Card)\n",
    "    rank_str = {1:'A', 11:'J', 12:'Q',13:'K'}.get(rank, str(rank))\n",
    "    return class_(rank_str, suit)"
   ]
  },
  {
   "cell_type": "code",
   "execution_count": 22,
   "id": "8abee12d",
   "metadata": {},
   "outputs": [],
   "source": [
    "deck_2  = [cardMap2(rank,suit) for rank in range(1,14) for suit in iter(Suit)]"
   ]
  },
  {
   "cell_type": "code",
   "execution_count": 23,
   "id": "7190701a",
   "metadata": {},
   "outputs": [
    {
     "name": "stdout",
     "output_type": "stream",
     "text": [
      "A Suit.Club\n",
      "A Suit.Diamond\n",
      "A Suit.Heart\n",
      "A Suit.Spade\n",
      "2 Suit.Club\n",
      "2 Suit.Diamond\n",
      "2 Suit.Heart\n",
      "2 Suit.Spade\n",
      "3 Suit.Club\n",
      "3 Suit.Diamond\n",
      "3 Suit.Heart\n",
      "3 Suit.Spade\n",
      "4 Suit.Club\n",
      "4 Suit.Diamond\n",
      "4 Suit.Heart\n",
      "4 Suit.Spade\n",
      "5 Suit.Club\n",
      "5 Suit.Diamond\n",
      "5 Suit.Heart\n",
      "5 Suit.Spade\n",
      "6 Suit.Club\n",
      "6 Suit.Diamond\n",
      "6 Suit.Heart\n",
      "6 Suit.Spade\n",
      "7 Suit.Club\n",
      "7 Suit.Diamond\n",
      "7 Suit.Heart\n",
      "7 Suit.Spade\n",
      "8 Suit.Club\n",
      "8 Suit.Diamond\n",
      "8 Suit.Heart\n",
      "8 Suit.Spade\n",
      "9 Suit.Club\n",
      "9 Suit.Diamond\n",
      "9 Suit.Heart\n",
      "9 Suit.Spade\n",
      "10 Suit.Club\n",
      "10 Suit.Diamond\n",
      "10 Suit.Heart\n",
      "10 Suit.Spade\n",
      "J Suit.Club\n",
      "J Suit.Diamond\n",
      "J Suit.Heart\n",
      "J Suit.Spade\n",
      "Q Suit.Club\n",
      "Q Suit.Diamond\n",
      "Q Suit.Heart\n",
      "Q Suit.Spade\n",
      "K Suit.Club\n",
      "K Suit.Diamond\n",
      "K Suit.Heart\n",
      "K Suit.Spade\n"
     ]
    }
   ],
   "source": [
    "for d in deck_2:\n",
    "    print(d.rank, d.suit)"
   ]
  },
  {
   "cell_type": "code",
   "execution_count": null,
   "id": "616477d6",
   "metadata": {},
   "outputs": [],
   "source": []
  },
  {
   "cell_type": "code",
   "execution_count": 27,
   "id": "37f2f724",
   "metadata": {},
   "outputs": [],
   "source": [
    "def cardMap3(rank : int, suit: Suit) -> Card :\n",
    "    class_, rank_str = { 1 : (AceCard,'A'), 11: (FaceCard,'J'),\n",
    "                        12: (FaceCard,\"Q\"), 13: (FaceCard,\"K\")}.get(rank, (Card, str(rank)))\n",
    "    return class_(rank_str, suit)"
   ]
  },
  {
   "cell_type": "code",
   "execution_count": 28,
   "id": "d91fb153",
   "metadata": {},
   "outputs": [],
   "source": [
    "deck_3  = [cardMap2(rank,suit) for rank in range(1,14) for suit in iter(Suit)]"
   ]
  },
  {
   "cell_type": "code",
   "execution_count": 29,
   "id": "e48ada80",
   "metadata": {},
   "outputs": [
    {
     "name": "stdout",
     "output_type": "stream",
     "text": [
      "A Suit.Club\n",
      "A Suit.Diamond\n",
      "A Suit.Heart\n",
      "A Suit.Spade\n",
      "2 Suit.Club\n",
      "2 Suit.Diamond\n",
      "2 Suit.Heart\n",
      "2 Suit.Spade\n",
      "3 Suit.Club\n",
      "3 Suit.Diamond\n",
      "3 Suit.Heart\n",
      "3 Suit.Spade\n",
      "4 Suit.Club\n",
      "4 Suit.Diamond\n",
      "4 Suit.Heart\n",
      "4 Suit.Spade\n",
      "5 Suit.Club\n",
      "5 Suit.Diamond\n",
      "5 Suit.Heart\n",
      "5 Suit.Spade\n",
      "6 Suit.Club\n",
      "6 Suit.Diamond\n",
      "6 Suit.Heart\n",
      "6 Suit.Spade\n",
      "7 Suit.Club\n",
      "7 Suit.Diamond\n",
      "7 Suit.Heart\n",
      "7 Suit.Spade\n",
      "8 Suit.Club\n",
      "8 Suit.Diamond\n",
      "8 Suit.Heart\n",
      "8 Suit.Spade\n",
      "9 Suit.Club\n",
      "9 Suit.Diamond\n",
      "9 Suit.Heart\n",
      "9 Suit.Spade\n",
      "10 Suit.Club\n",
      "10 Suit.Diamond\n",
      "10 Suit.Heart\n",
      "10 Suit.Spade\n",
      "J Suit.Club\n",
      "J Suit.Diamond\n",
      "J Suit.Heart\n",
      "J Suit.Spade\n",
      "Q Suit.Club\n",
      "Q Suit.Diamond\n",
      "Q Suit.Heart\n",
      "Q Suit.Spade\n",
      "K Suit.Club\n",
      "K Suit.Diamond\n",
      "K Suit.Heart\n",
      "K Suit.Spade\n"
     ]
    }
   ],
   "source": [
    "for d in deck_3:\n",
    "    print(d.rank, d.suit)"
   ]
  },
  {
   "cell_type": "code",
   "execution_count": null,
   "id": "3cffdb5c",
   "metadata": {},
   "outputs": [],
   "source": []
  }
 ],
 "metadata": {
  "kernelspec": {
   "display_name": "Python 3 (ipykernel)",
   "language": "python",
   "name": "python3"
  },
  "language_info": {
   "codemirror_mode": {
    "name": "ipython",
    "version": 3
   },
   "file_extension": ".py",
   "mimetype": "text/x-python",
   "name": "python",
   "nbconvert_exporter": "python",
   "pygments_lexer": "ipython3",
   "version": "3.11.3"
  }
 },
 "nbformat": 4,
 "nbformat_minor": 5
}
