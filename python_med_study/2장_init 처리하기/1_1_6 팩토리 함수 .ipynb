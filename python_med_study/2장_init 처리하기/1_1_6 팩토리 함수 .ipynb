{
 "cells": [
  {
   "cell_type": "code",
   "execution_count": null,
   "id": "8ee34e43",
   "metadata": {},
   "outputs": [],
   "source": []
  },
  {
   "cell_type": "code",
   "execution_count": 6,
   "id": "ede945c5",
   "metadata": {},
   "outputs": [],
   "source": [
    "# %load Card.py\n",
    "from typing import Tuple\n",
    "import enum\n",
    "\n",
    "class Card :\n",
    "    def __init__(self, rank:str, suit:str) -> None :\n",
    "        self.rank = rank\n",
    "        self.suit = suit\n",
    "        self.hard, self.soft = self._points()   # 내부에서 호출하는 메서드\n",
    "        \n",
    "    def _points(self) -> Tuple[int,int] :\n",
    "        return int(self.rank), int(self.rank)\n",
    "    \n",
    "class AceCard(Card) :\n",
    "    def _points(self) -> Tuple[int,int] :\n",
    "        return 1,11\n",
    "    \n",
    "class FaceCard(Card) :\n",
    "    def _points(self) -> Tuple[int,int] :\n",
    "        return 10,10\n",
    "    \n",
    "class Suit (str, enum.Enum) :\n",
    "    Club = \"♣️\"\n",
    "    Diamond = \"♦️\"\n",
    "    Heart=\"❤️ \"\n",
    "    Spade = \"♠️\""
   ]
  },
  {
   "cell_type": "code",
   "execution_count": null,
   "id": "003a881e",
   "metadata": {},
   "outputs": [],
   "source": []
  },
  {
   "cell_type": "markdown",
   "id": "13f3a330",
   "metadata": {},
   "source": [
    "# 팩토리 함수 만들기 "
   ]
  },
  {
   "cell_type": "markdown",
   "id": "4e6c33a0",
   "metadata": {},
   "source": [
    "##  조건문으로 매핑하기"
   ]
  },
  {
   "cell_type": "code",
   "execution_count": 10,
   "id": "917bdacd",
   "metadata": {},
   "outputs": [],
   "source": [
    "def card(rank:int, suit:Suit) -> Card :\n",
    "    if rank == 1 :\n",
    "        return AceCard('A', suit)\n",
    "    elif 2 <= rank < 11 :\n",
    "        return Card(str(rank), suit)\n",
    "    else :\n",
    "        name = { 11:'J', 12:\"Q\", 13 : \"K\"}[rank]\n",
    "        return FaceCard(name, suit)"
   ]
  },
  {
   "cell_type": "code",
   "execution_count": null,
   "id": "a1302d8c",
   "metadata": {},
   "outputs": [],
   "source": []
  },
  {
   "cell_type": "code",
   "execution_count": 11,
   "id": "df36e299",
   "metadata": {},
   "outputs": [],
   "source": [
    "deck = [card(rank,suit) for rank in range(1,14) for suit in iter(Suit)]"
   ]
  },
  {
   "cell_type": "code",
   "execution_count": 14,
   "id": "b8ee9360",
   "metadata": {},
   "outputs": [
    {
     "data": {
      "text/plain": [
       "52"
      ]
     },
     "execution_count": 14,
     "metadata": {},
     "output_type": "execute_result"
    }
   ],
   "source": [
    "len(deck)"
   ]
  },
  {
   "cell_type": "code",
   "execution_count": 20,
   "id": "e3afc703",
   "metadata": {},
   "outputs": [
    {
     "name": "stdout",
     "output_type": "stream",
     "text": [
      "A Suit.Club\n",
      "A Suit.Diamond\n",
      "A Suit.Heart\n",
      "A Suit.Spade\n",
      "2 Suit.Club\n",
      "2 Suit.Diamond\n",
      "2 Suit.Heart\n",
      "2 Suit.Spade\n",
      "3 Suit.Club\n",
      "3 Suit.Diamond\n",
      "3 Suit.Heart\n",
      "3 Suit.Spade\n",
      "4 Suit.Club\n",
      "4 Suit.Diamond\n",
      "4 Suit.Heart\n",
      "4 Suit.Spade\n",
      "5 Suit.Club\n",
      "5 Suit.Diamond\n",
      "5 Suit.Heart\n",
      "5 Suit.Spade\n",
      "6 Suit.Club\n",
      "6 Suit.Diamond\n",
      "6 Suit.Heart\n",
      "6 Suit.Spade\n",
      "7 Suit.Club\n",
      "7 Suit.Diamond\n",
      "7 Suit.Heart\n",
      "7 Suit.Spade\n",
      "8 Suit.Club\n",
      "8 Suit.Diamond\n",
      "8 Suit.Heart\n",
      "8 Suit.Spade\n",
      "9 Suit.Club\n",
      "9 Suit.Diamond\n",
      "9 Suit.Heart\n",
      "9 Suit.Spade\n",
      "10 Suit.Club\n",
      "10 Suit.Diamond\n",
      "10 Suit.Heart\n",
      "10 Suit.Spade\n",
      "J Suit.Club\n",
      "J Suit.Diamond\n",
      "J Suit.Heart\n",
      "J Suit.Spade\n",
      "Q Suit.Club\n",
      "Q Suit.Diamond\n",
      "Q Suit.Heart\n",
      "Q Suit.Spade\n",
      "K Suit.Club\n",
      "K Suit.Diamond\n",
      "K Suit.Heart\n",
      "K Suit.Spade\n"
     ]
    }
   ],
   "source": [
    "for d in deck:\n",
    "    print(d.rank, d.suit)"
   ]
  },
  {
   "cell_type": "markdown",
   "id": "9b0e9453",
   "metadata": {},
   "source": [
    "## 매치구문으로 처리하기 "
   ]
  },
  {
   "cell_type": "code",
   "execution_count": 31,
   "id": "9899c92a",
   "metadata": {},
   "outputs": [],
   "source": [
    "def cardMatch(rank:int, suit:Suit) -> Card :\n",
    "    match rank :\n",
    "        case 1 : \n",
    "            return AceCard('A', suit)\n",
    "        case 2 | 3| 4|5|6 |7 |8 |9 |10 :\n",
    "            return Card(str(rank), suit)\n",
    "        case _ : \n",
    "            name = { 11:'J', 12:\"Q\", 13 : \"K\"}[rank]\n",
    "            return FaceCard(name, suit)"
   ]
  },
  {
   "cell_type": "code",
   "execution_count": 32,
   "id": "861db6fa",
   "metadata": {},
   "outputs": [],
   "source": [
    "deck_match = [cardMatch(rank,suit) for rank in range(1,14) for suit in iter(Suit)]"
   ]
  },
  {
   "cell_type": "code",
   "execution_count": 33,
   "id": "0de4626b",
   "metadata": {},
   "outputs": [
    {
     "name": "stdout",
     "output_type": "stream",
     "text": [
      "A Suit.Club\n",
      "A Suit.Diamond\n",
      "A Suit.Heart\n",
      "A Suit.Spade\n",
      "2 Suit.Club\n",
      "2 Suit.Diamond\n",
      "2 Suit.Heart\n",
      "2 Suit.Spade\n",
      "3 Suit.Club\n",
      "3 Suit.Diamond\n",
      "3 Suit.Heart\n",
      "3 Suit.Spade\n",
      "4 Suit.Club\n",
      "4 Suit.Diamond\n",
      "4 Suit.Heart\n",
      "4 Suit.Spade\n",
      "5 Suit.Club\n",
      "5 Suit.Diamond\n",
      "5 Suit.Heart\n",
      "5 Suit.Spade\n",
      "6 Suit.Club\n",
      "6 Suit.Diamond\n",
      "6 Suit.Heart\n",
      "6 Suit.Spade\n",
      "7 Suit.Club\n",
      "7 Suit.Diamond\n",
      "7 Suit.Heart\n",
      "7 Suit.Spade\n",
      "8 Suit.Club\n",
      "8 Suit.Diamond\n",
      "8 Suit.Heart\n",
      "8 Suit.Spade\n",
      "9 Suit.Club\n",
      "9 Suit.Diamond\n",
      "9 Suit.Heart\n",
      "9 Suit.Spade\n",
      "10 Suit.Club\n",
      "10 Suit.Diamond\n",
      "10 Suit.Heart\n",
      "10 Suit.Spade\n",
      "J Suit.Club\n",
      "J Suit.Diamond\n",
      "J Suit.Heart\n",
      "J Suit.Spade\n",
      "Q Suit.Club\n",
      "Q Suit.Diamond\n",
      "Q Suit.Heart\n",
      "Q Suit.Spade\n",
      "K Suit.Club\n",
      "K Suit.Diamond\n",
      "K Suit.Heart\n",
      "K Suit.Spade\n"
     ]
    }
   ],
   "source": [
    "for d in deck_match:\n",
    "    print(d.rank, d.suit)"
   ]
  },
  {
   "cell_type": "code",
   "execution_count": null,
   "id": "e555520c",
   "metadata": {},
   "outputs": [],
   "source": []
  },
  {
   "cell_type": "markdown",
   "id": "d3d48c93",
   "metadata": {},
   "source": [
    "## 숫자값으로만 딕셔너리 매핑"
   ]
  },
  {
   "cell_type": "code",
   "execution_count": 15,
   "id": "9de6b01b",
   "metadata": {},
   "outputs": [],
   "source": [
    "def cardMap(rank : int, suit: Suit) -> Card :\n",
    "    class_ = { 1 : AceCard, 11: FaceCard, 12: FaceCard, 13: FaceCard}.get(rank, Card)\n",
    "    return class_(str(rank), suit)"
   ]
  },
  {
   "cell_type": "code",
   "execution_count": 16,
   "id": "2b46b97d",
   "metadata": {},
   "outputs": [],
   "source": [
    "deck_1  = [cardMap(rank,suit) for rank in range(1,14) for suit in iter(Suit)]"
   ]
  },
  {
   "cell_type": "code",
   "execution_count": 18,
   "id": "0e9866d8",
   "metadata": {},
   "outputs": [
    {
     "data": {
      "text/plain": [
       "52"
      ]
     },
     "execution_count": 18,
     "metadata": {},
     "output_type": "execute_result"
    }
   ],
   "source": [
    "len(deck_1)"
   ]
  },
  {
   "cell_type": "code",
   "execution_count": 19,
   "id": "dcf78f50",
   "metadata": {},
   "outputs": [
    {
     "name": "stdout",
     "output_type": "stream",
     "text": [
      "1 Suit.Club\n",
      "1 Suit.Diamond\n",
      "1 Suit.Heart\n",
      "1 Suit.Spade\n",
      "2 Suit.Club\n",
      "2 Suit.Diamond\n",
      "2 Suit.Heart\n",
      "2 Suit.Spade\n",
      "3 Suit.Club\n",
      "3 Suit.Diamond\n",
      "3 Suit.Heart\n",
      "3 Suit.Spade\n",
      "4 Suit.Club\n",
      "4 Suit.Diamond\n",
      "4 Suit.Heart\n",
      "4 Suit.Spade\n",
      "5 Suit.Club\n",
      "5 Suit.Diamond\n",
      "5 Suit.Heart\n",
      "5 Suit.Spade\n",
      "6 Suit.Club\n",
      "6 Suit.Diamond\n",
      "6 Suit.Heart\n",
      "6 Suit.Spade\n",
      "7 Suit.Club\n",
      "7 Suit.Diamond\n",
      "7 Suit.Heart\n",
      "7 Suit.Spade\n",
      "8 Suit.Club\n",
      "8 Suit.Diamond\n",
      "8 Suit.Heart\n",
      "8 Suit.Spade\n",
      "9 Suit.Club\n",
      "9 Suit.Diamond\n",
      "9 Suit.Heart\n",
      "9 Suit.Spade\n",
      "10 Suit.Club\n",
      "10 Suit.Diamond\n",
      "10 Suit.Heart\n",
      "10 Suit.Spade\n",
      "11 Suit.Club\n",
      "11 Suit.Diamond\n",
      "11 Suit.Heart\n",
      "11 Suit.Spade\n",
      "12 Suit.Club\n",
      "12 Suit.Diamond\n",
      "12 Suit.Heart\n",
      "12 Suit.Spade\n",
      "13 Suit.Club\n",
      "13 Suit.Diamond\n",
      "13 Suit.Heart\n",
      "13 Suit.Spade\n"
     ]
    }
   ],
   "source": [
    "for d in deck_1:\n",
    "    print(d.rank, d.suit)"
   ]
  },
  {
   "cell_type": "markdown",
   "id": "281699fc",
   "metadata": {},
   "source": [
    "## 두 개의 값을 각각 딕셔너리 매핑"
   ]
  },
  {
   "cell_type": "code",
   "execution_count": 21,
   "id": "a9bbf81c",
   "metadata": {},
   "outputs": [],
   "source": [
    "def cardMap2(rank : int, suit: Suit) -> Card :\n",
    "    class_ = { 1 : AceCard, 11: FaceCard, 12: FaceCard, 13: FaceCard}.get(rank, Card)\n",
    "    rank_str = {1:'A', 11:'J', 12:'Q',13:'K'}.get(rank, str(rank))\n",
    "    return class_(rank_str, suit)"
   ]
  },
  {
   "cell_type": "code",
   "execution_count": 22,
   "id": "11b5ef75",
   "metadata": {},
   "outputs": [],
   "source": [
    "deck_2  = [cardMap2(rank,suit) for rank in range(1,14) for suit in iter(Suit)]"
   ]
  },
  {
   "cell_type": "code",
   "execution_count": 23,
   "id": "e3a89fc5",
   "metadata": {},
   "outputs": [
    {
     "name": "stdout",
     "output_type": "stream",
     "text": [
      "A Suit.Club\n",
      "A Suit.Diamond\n",
      "A Suit.Heart\n",
      "A Suit.Spade\n",
      "2 Suit.Club\n",
      "2 Suit.Diamond\n",
      "2 Suit.Heart\n",
      "2 Suit.Spade\n",
      "3 Suit.Club\n",
      "3 Suit.Diamond\n",
      "3 Suit.Heart\n",
      "3 Suit.Spade\n",
      "4 Suit.Club\n",
      "4 Suit.Diamond\n",
      "4 Suit.Heart\n",
      "4 Suit.Spade\n",
      "5 Suit.Club\n",
      "5 Suit.Diamond\n",
      "5 Suit.Heart\n",
      "5 Suit.Spade\n",
      "6 Suit.Club\n",
      "6 Suit.Diamond\n",
      "6 Suit.Heart\n",
      "6 Suit.Spade\n",
      "7 Suit.Club\n",
      "7 Suit.Diamond\n",
      "7 Suit.Heart\n",
      "7 Suit.Spade\n",
      "8 Suit.Club\n",
      "8 Suit.Diamond\n",
      "8 Suit.Heart\n",
      "8 Suit.Spade\n",
      "9 Suit.Club\n",
      "9 Suit.Diamond\n",
      "9 Suit.Heart\n",
      "9 Suit.Spade\n",
      "10 Suit.Club\n",
      "10 Suit.Diamond\n",
      "10 Suit.Heart\n",
      "10 Suit.Spade\n",
      "J Suit.Club\n",
      "J Suit.Diamond\n",
      "J Suit.Heart\n",
      "J Suit.Spade\n",
      "Q Suit.Club\n",
      "Q Suit.Diamond\n",
      "Q Suit.Heart\n",
      "Q Suit.Spade\n",
      "K Suit.Club\n",
      "K Suit.Diamond\n",
      "K Suit.Heart\n",
      "K Suit.Spade\n"
     ]
    }
   ],
   "source": [
    "for d in deck_2:\n",
    "    print(d.rank, d.suit)"
   ]
  },
  {
   "cell_type": "markdown",
   "id": "399e0143",
   "metadata": {},
   "source": [
    "## 튜플 값으로 매핑 처리 "
   ]
  },
  {
   "cell_type": "code",
   "execution_count": 27,
   "id": "ae37de37",
   "metadata": {},
   "outputs": [],
   "source": [
    "def cardMap3(rank : int, suit: Suit) -> Card :\n",
    "    class_, rank_str = { 1 : (AceCard,'A'), 11: (FaceCard,'J'),\n",
    "                        12: (FaceCard,\"Q\"), 13: (FaceCard,\"K\")}.get(rank, (Card, str(rank)))\n",
    "    return class_(rank_str, suit)"
   ]
  },
  {
   "cell_type": "code",
   "execution_count": 28,
   "id": "271d9219",
   "metadata": {},
   "outputs": [],
   "source": [
    "deck_3  = [cardMap2(rank,suit) for rank in range(1,14) for suit in iter(Suit)]"
   ]
  },
  {
   "cell_type": "code",
   "execution_count": 29,
   "id": "3065715e",
   "metadata": {},
   "outputs": [
    {
     "name": "stdout",
     "output_type": "stream",
     "text": [
      "A Suit.Club\n",
      "A Suit.Diamond\n",
      "A Suit.Heart\n",
      "A Suit.Spade\n",
      "2 Suit.Club\n",
      "2 Suit.Diamond\n",
      "2 Suit.Heart\n",
      "2 Suit.Spade\n",
      "3 Suit.Club\n",
      "3 Suit.Diamond\n",
      "3 Suit.Heart\n",
      "3 Suit.Spade\n",
      "4 Suit.Club\n",
      "4 Suit.Diamond\n",
      "4 Suit.Heart\n",
      "4 Suit.Spade\n",
      "5 Suit.Club\n",
      "5 Suit.Diamond\n",
      "5 Suit.Heart\n",
      "5 Suit.Spade\n",
      "6 Suit.Club\n",
      "6 Suit.Diamond\n",
      "6 Suit.Heart\n",
      "6 Suit.Spade\n",
      "7 Suit.Club\n",
      "7 Suit.Diamond\n",
      "7 Suit.Heart\n",
      "7 Suit.Spade\n",
      "8 Suit.Club\n",
      "8 Suit.Diamond\n",
      "8 Suit.Heart\n",
      "8 Suit.Spade\n",
      "9 Suit.Club\n",
      "9 Suit.Diamond\n",
      "9 Suit.Heart\n",
      "9 Suit.Spade\n",
      "10 Suit.Club\n",
      "10 Suit.Diamond\n",
      "10 Suit.Heart\n",
      "10 Suit.Spade\n",
      "J Suit.Club\n",
      "J Suit.Diamond\n",
      "J Suit.Heart\n",
      "J Suit.Spade\n",
      "Q Suit.Club\n",
      "Q Suit.Diamond\n",
      "Q Suit.Heart\n",
      "Q Suit.Spade\n",
      "K Suit.Club\n",
      "K Suit.Diamond\n",
      "K Suit.Heart\n",
      "K Suit.Spade\n"
     ]
    }
   ],
   "source": [
    "for d in deck_3:\n",
    "    print(d.rank, d.suit)"
   ]
  },
  {
   "cell_type": "code",
   "execution_count": null,
   "id": "7f0ce608",
   "metadata": {},
   "outputs": [],
   "source": []
  },
  {
   "cell_type": "markdown",
   "id": "8a86714a",
   "metadata": {},
   "source": [
    "## 부분함수 : 람다표현식이용하기"
   ]
  },
  {
   "cell_type": "code",
   "execution_count": 36,
   "id": "7d2c2335",
   "metadata": {},
   "outputs": [],
   "source": [
    "def cardPatial(rank : int, suit: Suit) -> Card :\n",
    "    class_ = { 1 :  lambda suit : AceCard('A',suit), \n",
    "              11 :  lambda suit : FaceCard('J',suit),\n",
    "              12 :  lambda suit : FaceCard(\"Q\",suit), \n",
    "              13 :  lambda suit : FaceCard(\"K\",suit)\n",
    "             }.get(rank, lambda suit : Card(str(rank),suit))\n",
    "    return class_(suit)"
   ]
  },
  {
   "cell_type": "code",
   "execution_count": 37,
   "id": "7bd6eb94",
   "metadata": {},
   "outputs": [],
   "source": [
    "deck_p  = [cardPatial(rank,suit) for rank in range(1,14) for suit in iter(Suit)]"
   ]
  },
  {
   "cell_type": "code",
   "execution_count": 38,
   "id": "ecd0e98b",
   "metadata": {},
   "outputs": [
    {
     "name": "stdout",
     "output_type": "stream",
     "text": [
      "A Suit.Club\n",
      "A Suit.Diamond\n",
      "A Suit.Heart\n",
      "A Suit.Spade\n",
      "2 Suit.Club\n",
      "2 Suit.Diamond\n",
      "2 Suit.Heart\n",
      "2 Suit.Spade\n",
      "3 Suit.Club\n",
      "3 Suit.Diamond\n",
      "3 Suit.Heart\n",
      "3 Suit.Spade\n",
      "4 Suit.Club\n",
      "4 Suit.Diamond\n",
      "4 Suit.Heart\n",
      "4 Suit.Spade\n",
      "5 Suit.Club\n",
      "5 Suit.Diamond\n",
      "5 Suit.Heart\n",
      "5 Suit.Spade\n",
      "6 Suit.Club\n",
      "6 Suit.Diamond\n",
      "6 Suit.Heart\n",
      "6 Suit.Spade\n",
      "7 Suit.Club\n",
      "7 Suit.Diamond\n",
      "7 Suit.Heart\n",
      "7 Suit.Spade\n",
      "8 Suit.Club\n",
      "8 Suit.Diamond\n",
      "8 Suit.Heart\n",
      "8 Suit.Spade\n",
      "9 Suit.Club\n",
      "9 Suit.Diamond\n",
      "9 Suit.Heart\n",
      "9 Suit.Spade\n",
      "10 Suit.Club\n",
      "10 Suit.Diamond\n",
      "10 Suit.Heart\n",
      "10 Suit.Spade\n",
      "J Suit.Club\n",
      "J Suit.Diamond\n",
      "J Suit.Heart\n",
      "J Suit.Spade\n",
      "Q Suit.Club\n",
      "Q Suit.Diamond\n",
      "Q Suit.Heart\n",
      "Q Suit.Spade\n",
      "K Suit.Club\n",
      "K Suit.Diamond\n",
      "K Suit.Heart\n",
      "K Suit.Spade\n"
     ]
    }
   ],
   "source": [
    "for d in deck_p:\n",
    "    print(d.rank, d.suit)"
   ]
  },
  {
   "cell_type": "markdown",
   "id": "f2ffb698",
   "metadata": {},
   "source": [
    "## 플루언트 API 사용하기 \n",
    "\n",
    "- 메서드 체이닝을 통해 자연어 문장처럼 읽히는 API 스타일을 제공하는 프로그래밍 인터페이스입니다. \n",
    "- 플루언트 API는 코드를 간결하고 가독성이 좋게 만들어주며, 사용자가 API를 더 직관적이고 쉽게 이해할 수 있도록 도와줍니다."
   ]
  },
  {
   "cell_type": "code",
   "execution_count": null,
   "id": "5a1d04bc",
   "metadata": {},
   "outputs": [],
   "source": []
  },
  {
   "cell_type": "code",
   "execution_count": 44,
   "id": "64da077e",
   "metadata": {},
   "outputs": [],
   "source": [
    "class CardFactory :\n",
    "    def rank(self, rank:int) -> \"CardFactory\" :   # 자기 자신을 처리할 때는 오류 / 문자열로 처리\n",
    "        self.class_, self.rank_str = {\n",
    "            1: (AceCard, \"A\"),\n",
    "            11: (FaceCard,\"J\"), \n",
    "            12: (FaceCard,\"Q\"), \n",
    "            13: (FaceCard,\"K\"), \n",
    "        }.get(\n",
    "            rank, (Card, str(rank))\n",
    "        )\n",
    "        return self\n",
    "    \n",
    "    def suit(self, suit:Suit) -> Card :\n",
    "        return self.class_(self.rank_str, suit)"
   ]
  },
  {
   "cell_type": "code",
   "execution_count": null,
   "id": "27965cfc",
   "metadata": {},
   "outputs": [],
   "source": []
  },
  {
   "cell_type": "code",
   "execution_count": 45,
   "id": "efd1daf0",
   "metadata": {},
   "outputs": [],
   "source": [
    "cardF = CardFactory()\n",
    "\n",
    "deckF = [cardF.rank(r).suit(s) for r in range(1,14) for s in iter(Suit)]"
   ]
  },
  {
   "cell_type": "code",
   "execution_count": null,
   "id": "7734442f",
   "metadata": {},
   "outputs": [],
   "source": []
  },
  {
   "cell_type": "code",
   "execution_count": 46,
   "id": "db13c7cc",
   "metadata": {},
   "outputs": [
    {
     "name": "stdout",
     "output_type": "stream",
     "text": [
      "A Suit.Club\n",
      "A Suit.Diamond\n",
      "A Suit.Heart\n",
      "A Suit.Spade\n",
      "2 Suit.Club\n",
      "2 Suit.Diamond\n",
      "2 Suit.Heart\n",
      "2 Suit.Spade\n",
      "3 Suit.Club\n",
      "3 Suit.Diamond\n",
      "3 Suit.Heart\n",
      "3 Suit.Spade\n",
      "4 Suit.Club\n",
      "4 Suit.Diamond\n",
      "4 Suit.Heart\n",
      "4 Suit.Spade\n",
      "5 Suit.Club\n",
      "5 Suit.Diamond\n",
      "5 Suit.Heart\n",
      "5 Suit.Spade\n",
      "6 Suit.Club\n",
      "6 Suit.Diamond\n",
      "6 Suit.Heart\n",
      "6 Suit.Spade\n",
      "7 Suit.Club\n",
      "7 Suit.Diamond\n",
      "7 Suit.Heart\n",
      "7 Suit.Spade\n",
      "8 Suit.Club\n",
      "8 Suit.Diamond\n",
      "8 Suit.Heart\n",
      "8 Suit.Spade\n",
      "9 Suit.Club\n",
      "9 Suit.Diamond\n",
      "9 Suit.Heart\n",
      "9 Suit.Spade\n",
      "10 Suit.Club\n",
      "10 Suit.Diamond\n",
      "10 Suit.Heart\n",
      "10 Suit.Spade\n",
      "J Suit.Club\n",
      "J Suit.Diamond\n",
      "J Suit.Heart\n",
      "J Suit.Spade\n",
      "Q Suit.Club\n",
      "Q Suit.Diamond\n",
      "Q Suit.Heart\n",
      "Q Suit.Spade\n",
      "K Suit.Club\n",
      "K Suit.Diamond\n",
      "K Suit.Heart\n",
      "K Suit.Spade\n"
     ]
    }
   ],
   "source": [
    "for d in deckF:\n",
    "    print(d.rank, d.suit)"
   ]
  },
  {
   "cell_type": "code",
   "execution_count": null,
   "id": "0fdf3d8a",
   "metadata": {},
   "outputs": [],
   "source": []
  }
 ],
 "metadata": {
  "kernelspec": {
   "display_name": "Python 3 (ipykernel)",
   "language": "python",
   "name": "python3"
  },
  "language_info": {
   "codemirror_mode": {
    "name": "ipython",
    "version": 3
   },
   "file_extension": ".py",
   "mimetype": "text/x-python",
   "name": "python",
   "nbconvert_exporter": "python",
   "pygments_lexer": "ipython3",
   "version": "3.11.3"
  }
 },
 "nbformat": 4,
 "nbformat_minor": 5
}
