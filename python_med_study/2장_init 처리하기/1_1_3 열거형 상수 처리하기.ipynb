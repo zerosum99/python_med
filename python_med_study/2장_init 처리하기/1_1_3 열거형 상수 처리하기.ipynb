{
 "cells": [
  {
   "cell_type": "markdown",
   "id": "ee6af915",
   "metadata": {},
   "source": [
    "## 1. 열거형 상수 정의하기 "
   ]
  },
  {
   "cell_type": "markdown",
   "id": "17207a97",
   "metadata": {},
   "source": [
    "### 열거형 모듈을 사용하기 "
   ]
  },
  {
   "cell_type": "code",
   "execution_count": 1,
   "id": "c40af80a",
   "metadata": {},
   "outputs": [],
   "source": [
    "import enum"
   ]
  },
  {
   "cell_type": "code",
   "execution_count": null,
   "id": "03aa7c93",
   "metadata": {},
   "outputs": [],
   "source": []
  },
  {
   "cell_type": "markdown",
   "id": "4cfa0223",
   "metadata": {},
   "source": [
    "### 클래스 정의에 열거형을 상속한다 \n",
    "- 그리고 해당되는 객체를 내부에 정의한다\n",
    "- 열거형은 대문자로 정의하고 해당 값을 할당할 수 있다. "
   ]
  },
  {
   "cell_type": "code",
   "execution_count": 14,
   "id": "97465250",
   "metadata": {},
   "outputs": [],
   "source": [
    "class Color(enum.Enum):\n",
    "    RED = 1\n",
    "    GREEN = 2\n",
    "    BLUE = 3"
   ]
  },
  {
   "cell_type": "code",
   "execution_count": 59,
   "id": "609770e0",
   "metadata": {},
   "outputs": [
    {
     "data": {
      "text/plain": [
       "<enum 'Color'>"
      ]
     },
     "execution_count": 59,
     "metadata": {},
     "output_type": "execute_result"
    }
   ],
   "source": [
    "Color"
   ]
  },
  {
   "cell_type": "code",
   "execution_count": null,
   "id": "29284525",
   "metadata": {},
   "outputs": [],
   "source": []
  },
  {
   "cell_type": "code",
   "execution_count": 57,
   "id": "c858d505",
   "metadata": {},
   "outputs": [
    {
     "data": {
      "text/plain": [
       "(<enum 'Enum'>,)"
      ]
     },
     "execution_count": 57,
     "metadata": {},
     "output_type": "execute_result"
    }
   ],
   "source": [
    "Color.__bases__"
   ]
  },
  {
   "cell_type": "code",
   "execution_count": 19,
   "id": "61d525ae",
   "metadata": {},
   "outputs": [
    {
     "name": "stdout",
     "output_type": "stream",
     "text": [
      "Color.RED\n",
      "RED\n",
      "1\n"
     ]
    }
   ],
   "source": [
    "print(Color.RED)            # 출력: Color.RED\n",
    "print(Color.RED.name)            # 출력: Color.RED\n",
    "print(Color.RED.value)      # 출력: 1"
   ]
  },
  {
   "cell_type": "markdown",
   "id": "8e85f0f9",
   "metadata": {},
   "source": [
    "### 열거형을 순환해서 출력 할 수 있다, "
   ]
  },
  {
   "cell_type": "code",
   "execution_count": 21,
   "id": "3ac471ea",
   "metadata": {},
   "outputs": [
    {
     "name": "stdout",
     "output_type": "stream",
     "text": [
      "Color.RED\n",
      "Color.GREEN\n",
      "Color.BLUE\n"
     ]
    }
   ],
   "source": [
    "for skill in Color:\n",
    "    print(skill)"
   ]
  },
  {
   "cell_type": "markdown",
   "id": "c8635728",
   "metadata": {},
   "source": [
    "### 열거형 객체에 대한 속성을 출력하기 "
   ]
  },
  {
   "cell_type": "code",
   "execution_count": 49,
   "id": "59b97434",
   "metadata": {},
   "outputs": [
    {
     "name": "stdout",
     "output_type": "stream",
     "text": [
      "RED\n",
      "1\n"
     ]
    }
   ],
   "source": [
    "print(Color.RED.name)            # 출력: Color.RED\n",
    "print(Color.RED.value)      # 출력: 1"
   ]
  },
  {
   "cell_type": "markdown",
   "id": "8bf8f2a9",
   "metadata": {},
   "source": [
    "### 조건문과 함께 사용하기"
   ]
  },
  {
   "cell_type": "code",
   "execution_count": 50,
   "id": "0128b0dd",
   "metadata": {},
   "outputs": [
    {
     "name": "stdout",
     "output_type": "stream",
     "text": [
      "The color is green.\n"
     ]
    }
   ],
   "source": [
    "color = Color.GREEN\n",
    "if color == Color.GREEN:\n",
    "    print(\"The color is green.\")\n",
    "else:\n",
    "    print(\"The color is not green.\")"
   ]
  },
  {
   "cell_type": "code",
   "execution_count": null,
   "id": "bf7571c4",
   "metadata": {},
   "outputs": [],
   "source": []
  },
  {
   "cell_type": "markdown",
   "id": "6cac3d9f",
   "metadata": {},
   "source": [
    "## 2 열거형 클래스 생성할 때 지정할 값 클래스 상속하기 "
   ]
  },
  {
   "cell_type": "code",
   "execution_count": 52,
   "id": "248fe3db",
   "metadata": {},
   "outputs": [],
   "source": [
    "class Color_S(str, enum.Enum):\n",
    "    RED = 'red'\n",
    "    GREEN = 'green'\n",
    "    BLUE = 'blue'"
   ]
  },
  {
   "cell_type": "code",
   "execution_count": 60,
   "id": "ce2e57ff",
   "metadata": {},
   "outputs": [
    {
     "data": {
      "text/plain": [
       "<enum 'Color_S'>"
      ]
     },
     "execution_count": 60,
     "metadata": {},
     "output_type": "execute_result"
    }
   ],
   "source": [
    "Color_S"
   ]
  },
  {
   "cell_type": "code",
   "execution_count": null,
   "id": "43d4fc6c",
   "metadata": {},
   "outputs": [],
   "source": []
  },
  {
   "cell_type": "code",
   "execution_count": 56,
   "id": "02b7472c",
   "metadata": {},
   "outputs": [
    {
     "data": {
      "text/plain": [
       "(str, <enum 'Enum'>)"
      ]
     },
     "execution_count": 56,
     "metadata": {},
     "output_type": "execute_result"
    }
   ],
   "source": [
    "Color_S.__bases__"
   ]
  },
  {
   "cell_type": "code",
   "execution_count": 53,
   "id": "d7334f2e",
   "metadata": {},
   "outputs": [
    {
     "name": "stdout",
     "output_type": "stream",
     "text": [
      "Color_S.RED\n",
      "red\n"
     ]
    }
   ],
   "source": [
    "print(Color_S.RED)           # 출력: Color.RED\n",
    "print(Color_S.RED.value)     # 출력: red"
   ]
  },
  {
   "cell_type": "code",
   "execution_count": 54,
   "id": "7d1b9a2f",
   "metadata": {},
   "outputs": [
    {
     "name": "stdout",
     "output_type": "stream",
     "text": [
      "The color is green.\n"
     ]
    }
   ],
   "source": [
    "color = Color_S.GREEN\n",
    "if color == Color_S.GREEN:\n",
    "    print(\"The color is green.\")\n",
    "else:\n",
    "    print(\"The color is not green.\")"
   ]
  },
  {
   "cell_type": "markdown",
   "id": "5cd10b9a",
   "metadata": {},
   "source": [
    "## 3. 이넘 클래스로 이넘 상수 생성하기 "
   ]
  },
  {
   "cell_type": "markdown",
   "id": "c452f42d",
   "metadata": {},
   "source": [
    "## 이넘 클래스로 생성"
   ]
  },
  {
   "cell_type": "code",
   "execution_count": 23,
   "id": "e5290cb4",
   "metadata": {},
   "outputs": [],
   "source": [
    "Skill = enum.Enum(\"Skill\", \"HTML CSS JS\")"
   ]
  },
  {
   "cell_type": "code",
   "execution_count": 58,
   "id": "b208381c",
   "metadata": {},
   "outputs": [
    {
     "data": {
      "text/plain": [
       "(<enum 'StrEnum'>,)"
      ]
     },
     "execution_count": 58,
     "metadata": {},
     "output_type": "execute_result"
    }
   ],
   "source": [
    "Skill.__bases__"
   ]
  },
  {
   "cell_type": "code",
   "execution_count": null,
   "id": "696cb956",
   "metadata": {},
   "outputs": [],
   "source": []
  },
  {
   "cell_type": "code",
   "execution_count": 24,
   "id": "a52a752e",
   "metadata": {},
   "outputs": [
    {
     "data": {
      "text/plain": [
       "<enum 'Skill'>"
      ]
     },
     "execution_count": 24,
     "metadata": {},
     "output_type": "execute_result"
    }
   ],
   "source": [
    "Skill"
   ]
  },
  {
   "cell_type": "code",
   "execution_count": 25,
   "id": "ab3e91a9",
   "metadata": {},
   "outputs": [
    {
     "name": "stdout",
     "output_type": "stream",
     "text": [
      "Skill.HTML\n",
      "Skill.CSS\n",
      "Skill.JS\n"
     ]
    }
   ],
   "source": [
    "for skill in Skill :\n",
    "    print(skill)"
   ]
  },
  {
   "cell_type": "markdown",
   "id": "42f1d126",
   "metadata": {},
   "source": [
    "## 상속해서 생성 및  값을 자동으로 지정하기"
   ]
  },
  {
   "cell_type": "code",
   "execution_count": 26,
   "id": "90aa3387",
   "metadata": {},
   "outputs": [],
   "source": [
    "from enum import Enum, auto\n",
    "\n",
    "class Skill(Enum):\n",
    "    HTML = auto()\n",
    "    CSS = auto()\n",
    "    JS = auto()"
   ]
  },
  {
   "cell_type": "code",
   "execution_count": 32,
   "id": "f8e5dee7",
   "metadata": {},
   "outputs": [
    {
     "name": "stdout",
     "output_type": "stream",
     "text": [
      "Skill.HTML, HTML\n",
      "Skill.CSS, CSS\n",
      "Skill.JS, JS\n"
     ]
    }
   ],
   "source": [
    "for skill in Skill :\n",
    "    print(skill, skill.value,sep=\", \")"
   ]
  },
  {
   "cell_type": "markdown",
   "id": "90bebb4d",
   "metadata": {},
   "source": [
    "## 값을 정수로 지정하기 "
   ]
  },
  {
   "cell_type": "code",
   "execution_count": 61,
   "id": "8cc6fa56",
   "metadata": {},
   "outputs": [],
   "source": [
    "class Skill(int, Enum):\n",
    "    HTML = auto()\n",
    "    CSS = auto()\n",
    "    JS = auto()"
   ]
  },
  {
   "cell_type": "code",
   "execution_count": 62,
   "id": "03fb1da3",
   "metadata": {},
   "outputs": [
    {
     "name": "stdout",
     "output_type": "stream",
     "text": [
      "Skill.HTML, 1\n",
      "Skill.CSS, 2\n",
      "Skill.JS, 3\n"
     ]
    }
   ],
   "source": [
    "for skill in Skill :\n",
    "    print(skill, skill.value,sep=\", \")"
   ]
  },
  {
   "cell_type": "code",
   "execution_count": null,
   "id": "3fa35093",
   "metadata": {},
   "outputs": [],
   "source": []
  },
  {
   "cell_type": "markdown",
   "id": "59c2514e",
   "metadata": {},
   "source": [
    "## 4. 내부 메서드 정의해서 사용하기 "
   ]
  },
  {
   "cell_type": "code",
   "execution_count": 64,
   "id": "e9976380",
   "metadata": {},
   "outputs": [],
   "source": [
    "class Skill(Enum):\n",
    "    def _generate_next_value_(name, start, count, last_values):\n",
    "        return name\n",
    "\n",
    "    HTML = auto()\n",
    "    CSS = auto()\n",
    "    JS = auto()"
   ]
  },
  {
   "cell_type": "code",
   "execution_count": 65,
   "id": "ba87ffe8",
   "metadata": {},
   "outputs": [
    {
     "name": "stdout",
     "output_type": "stream",
     "text": [
      "HTML\n",
      "CSS\n",
      "JS\n"
     ]
    }
   ],
   "source": [
    "for skill in Skill :\n",
    "    print(skill.value)"
   ]
  },
  {
   "cell_type": "code",
   "execution_count": 66,
   "id": "022ecb43",
   "metadata": {},
   "outputs": [
    {
     "data": {
      "text/plain": [
       "True"
      ]
     },
     "execution_count": 66,
     "metadata": {},
     "output_type": "execute_result"
    }
   ],
   "source": [
    "Skill.HTML.name == 'HTML'"
   ]
  },
  {
   "cell_type": "code",
   "execution_count": 67,
   "id": "d12094f3",
   "metadata": {},
   "outputs": [
    {
     "data": {
      "text/plain": [
       "False"
      ]
     },
     "execution_count": 67,
     "metadata": {},
     "output_type": "execute_result"
    }
   ],
   "source": [
    "Skill.HTML.value == 1"
   ]
  },
  {
   "cell_type": "code",
   "execution_count": 68,
   "id": "7fd9b068",
   "metadata": {},
   "outputs": [
    {
     "data": {
      "text/plain": [
       "False"
      ]
     },
     "execution_count": 68,
     "metadata": {},
     "output_type": "execute_result"
    }
   ],
   "source": [
    "Skill.HTML == 'HTML'"
   ]
  },
  {
   "cell_type": "code",
   "execution_count": 69,
   "id": "fd22009c",
   "metadata": {},
   "outputs": [
    {
     "data": {
      "text/plain": [
       "<enum 'Skill'>"
      ]
     },
     "execution_count": 69,
     "metadata": {},
     "output_type": "execute_result"
    }
   ],
   "source": [
    "type(Skill.HTML)"
   ]
  },
  {
   "cell_type": "code",
   "execution_count": null,
   "id": "4d6b013d",
   "metadata": {},
   "outputs": [],
   "source": []
  },
  {
   "cell_type": "code",
   "execution_count": 70,
   "id": "fee91511",
   "metadata": {},
   "outputs": [],
   "source": [
    "class StrEnum(str, Enum):\n",
    "    def _generate_next_value_(name, start, count, last_values):\n",
    "        return name\n",
    "\n",
    "    def __repr__(self):\n",
    "        return self.name\n",
    "\n",
    "    def __str__(self):\n",
    "        return self.name"
   ]
  },
  {
   "cell_type": "code",
   "execution_count": 71,
   "id": "6dba5c6a",
   "metadata": {},
   "outputs": [],
   "source": [
    "class Skill(StrEnum):\n",
    "    HTML = auto()\n",
    "    CSS = auto()\n",
    "    JS = auto()"
   ]
  },
  {
   "cell_type": "code",
   "execution_count": 72,
   "id": "e6d78530",
   "metadata": {},
   "outputs": [
    {
     "name": "stdout",
     "output_type": "stream",
     "text": [
      "HTML, HTML\n",
      "CSS, CSS\n",
      "JS, JS\n"
     ]
    }
   ],
   "source": [
    "for skill in Skill :\n",
    "    print(skill, skill.value,sep=\", \")"
   ]
  },
  {
   "cell_type": "code",
   "execution_count": null,
   "id": "9ac480df",
   "metadata": {},
   "outputs": [],
   "source": []
  },
  {
   "cell_type": "code",
   "execution_count": null,
   "id": "8d58ce5c",
   "metadata": {},
   "outputs": [],
   "source": []
  },
  {
   "cell_type": "markdown",
   "id": "21c8f2ba",
   "metadata": {},
   "source": [
    "## 이넘 내부의 값은 변경할 수 없다. "
   ]
  },
  {
   "cell_type": "code",
   "execution_count": 73,
   "id": "25241609",
   "metadata": {},
   "outputs": [],
   "source": [
    "class Suit (str, enum.Enum) :\n",
    "    Club = \"♣️\"\n",
    "    Diamond = \"♦️\"\n",
    "    Heart=\"❤️ \"\n",
    "    Spade = \"♠️\""
   ]
  },
  {
   "cell_type": "code",
   "execution_count": 74,
   "id": "aa3f338b",
   "metadata": {},
   "outputs": [
    {
     "data": {
      "text/plain": [
       "<Suit.Club: '♣️'>"
      ]
     },
     "execution_count": 74,
     "metadata": {},
     "output_type": "execute_result"
    }
   ],
   "source": [
    "Suit.Club"
   ]
  },
  {
   "cell_type": "code",
   "execution_count": 75,
   "id": "e7a8b211",
   "metadata": {},
   "outputs": [
    {
     "data": {
      "text/plain": [
       "'♣️'"
      ]
     },
     "execution_count": 75,
     "metadata": {},
     "output_type": "execute_result"
    }
   ],
   "source": [
    "Suit.Club.value"
   ]
  },
  {
   "cell_type": "markdown",
   "id": "c21385ce",
   "metadata": {},
   "source": [
    "## 변경할 수 없다. "
   ]
  },
  {
   "cell_type": "code",
   "execution_count": 76,
   "id": "16f24be5",
   "metadata": {},
   "outputs": [
    {
     "ename": "AttributeError",
     "evalue": "<enum 'Enum'> cannot set attribute 'value'",
     "output_type": "error",
     "traceback": [
      "\u001b[0;31m---------------------------------------------------------------------------\u001b[0m",
      "\u001b[0;31mAttributeError\u001b[0m                            Traceback (most recent call last)",
      "Cell \u001b[0;32mIn[76], line 1\u001b[0m\n\u001b[0;32m----> 1\u001b[0m \u001b[43mSuit\u001b[49m\u001b[38;5;241;43m.\u001b[39;49m\u001b[43mClub\u001b[49m\u001b[38;5;241;43m.\u001b[39;49m\u001b[43mvalue\u001b[49m  \u001b[38;5;241m=\u001b[39m \u001b[38;5;124m'\u001b[39m\u001b[38;5;124mH\u001b[39m\u001b[38;5;124m'\u001b[39m\n",
      "File \u001b[0;32m~/opt/anaconda3/envs/fluentPython/lib/python3.11/enum.py:210\u001b[0m, in \u001b[0;36mproperty.__set__\u001b[0;34m(self, instance, value)\u001b[0m\n\u001b[1;32m    208\u001b[0m \u001b[38;5;28;01mdef\u001b[39;00m \u001b[38;5;21m__set__\u001b[39m(\u001b[38;5;28mself\u001b[39m, instance, value):\n\u001b[1;32m    209\u001b[0m     \u001b[38;5;28;01mif\u001b[39;00m \u001b[38;5;28mself\u001b[39m\u001b[38;5;241m.\u001b[39mfset \u001b[38;5;129;01mis\u001b[39;00m \u001b[38;5;28;01mNone\u001b[39;00m:\n\u001b[0;32m--> 210\u001b[0m         \u001b[38;5;28;01mraise\u001b[39;00m \u001b[38;5;167;01mAttributeError\u001b[39;00m(\n\u001b[1;32m    211\u001b[0m                 \u001b[38;5;124m\"\u001b[39m\u001b[38;5;124m<enum \u001b[39m\u001b[38;5;132;01m%r\u001b[39;00m\u001b[38;5;124m> cannot set attribute \u001b[39m\u001b[38;5;132;01m%r\u001b[39;00m\u001b[38;5;124m\"\u001b[39m \u001b[38;5;241m%\u001b[39m (\u001b[38;5;28mself\u001b[39m\u001b[38;5;241m.\u001b[39mclsname, \u001b[38;5;28mself\u001b[39m\u001b[38;5;241m.\u001b[39mname)\n\u001b[1;32m    212\u001b[0m                 )\n\u001b[1;32m    213\u001b[0m     \u001b[38;5;28;01melse\u001b[39;00m:\n\u001b[1;32m    214\u001b[0m         \u001b[38;5;28;01mreturn\u001b[39;00m \u001b[38;5;28mself\u001b[39m\u001b[38;5;241m.\u001b[39mfset(instance, value)\n",
      "\u001b[0;31mAttributeError\u001b[0m: <enum 'Enum'> cannot set attribute 'value'"
     ]
    }
   ],
   "source": [
    "Suit.Club.value  = 'H'"
   ]
  },
  {
   "cell_type": "code",
   "execution_count": null,
   "id": "f53c3b7d",
   "metadata": {},
   "outputs": [],
   "source": []
  },
  {
   "cell_type": "markdown",
   "id": "4348e71f",
   "metadata": {},
   "source": [
    "## 5.  enum mixin\n",
    "\n",
    "- enum 타입을 사용할 때 한 가지 불편할 수 있는 점은 상수의 이름이나 값에 접근할 때 name이나 value 속성을 사용해야 한다는 것입니다."
   ]
  },
  {
   "cell_type": "code",
   "execution_count": 81,
   "id": "7793bc41",
   "metadata": {},
   "outputs": [],
   "source": [
    "class MixinEnum(enum.Enum):\n",
    "    def additional_method(self):\n",
    "        # 추가적인 기능 정의\n",
    "        pass"
   ]
  },
  {
   "cell_type": "code",
   "execution_count": 82,
   "id": "6d66d053",
   "metadata": {},
   "outputs": [],
   "source": [
    "class MyEnum(MixinEnum):\n",
    "    VALUE1 = 1\n",
    "    VALUE2 = 2\n",
    "    VALUE3 = 3\n",
    "\n"
   ]
  },
  {
   "cell_type": "code",
   "execution_count": 83,
   "id": "2b23db71",
   "metadata": {},
   "outputs": [],
   "source": [
    "value = MyEnum.VALUE1"
   ]
  },
  {
   "cell_type": "code",
   "execution_count": 84,
   "id": "f7b22c25",
   "metadata": {},
   "outputs": [
    {
     "data": {
      "text/plain": [
       "<MyEnum.VALUE1: 1>"
      ]
     },
     "execution_count": 84,
     "metadata": {},
     "output_type": "execute_result"
    }
   ],
   "source": [
    "value"
   ]
  },
  {
   "cell_type": "code",
   "execution_count": 85,
   "id": "2074ede6",
   "metadata": {},
   "outputs": [],
   "source": [
    "value.additional_method()"
   ]
  },
  {
   "cell_type": "code",
   "execution_count": null,
   "id": "a88f957d",
   "metadata": {},
   "outputs": [],
   "source": []
  }
 ],
 "metadata": {
  "kernelspec": {
   "display_name": "Python 3 (ipykernel)",
   "language": "python",
   "name": "python3"
  },
  "language_info": {
   "codemirror_mode": {
    "name": "ipython",
    "version": 3
   },
   "file_extension": ".py",
   "mimetype": "text/x-python",
   "name": "python",
   "nbconvert_exporter": "python",
   "pygments_lexer": "ipython3",
   "version": "3.11.3"
  }
 },
 "nbformat": 4,
 "nbformat_minor": 5
}
