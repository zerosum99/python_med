{
 "cells": [
  {
   "cell_type": "code",
   "execution_count": 16,
   "id": "008a53c6",
   "metadata": {},
   "outputs": [
    {
     "name": "stdout",
     "output_type": "stream",
     "text": [
      "Overwriting Card.py\n"
     ]
    }
   ],
   "source": [
    "%%writefile Card.py\n",
    "from typing import Tuple\n",
    "import enum\n",
    "\n",
    "class Card :\n",
    "    def __init__(self, rank:str, suit:str) -> None :\n",
    "        self.rank = rank\n",
    "        self.suit = suit\n",
    "        self.hard, self.soft = self._points()   # 내부에서 호출하는 메서드\n",
    "        \n",
    "    def _points(self) -> Tuple[int,int] :\n",
    "        return int(self.rank), int(self.rank)\n",
    "    \n",
    "class AceCard(Card) :\n",
    "    def _points(self) -> Tuple[int,int] :\n",
    "        return 1,11\n",
    "    \n",
    "class FaceCard(Card) :\n",
    "    def _points(self) -> Tuple[int,int] :\n",
    "        return 10,10\n",
    "    \n",
    "class Suit (str, enum.Enum) :\n",
    "    Club = \"♣️\"\n",
    "    Diamond = \"♦️\"\n",
    "    Heart=\"❤️ \"\n",
    "    Spade = \"♠️\""
   ]
  },
  {
   "cell_type": "code",
   "execution_count": 1,
   "id": "4c1087ad",
   "metadata": {},
   "outputs": [],
   "source": [
    "\n",
    "from typing import Tuple"
   ]
  },
  {
   "cell_type": "code",
   "execution_count": 7,
   "id": "a544a3ab",
   "metadata": {},
   "outputs": [],
   "source": [
    "class Card :\n",
    "    def __init__(self, rank:str, suit:str) -> None :\n",
    "        self.rank = rank\n",
    "        self.suit = suit\n",
    "        self.hard, self.soft = self._points()   # 내부에서 호출하는 메서드\n",
    "        \n",
    "    def _points(self) -> Tuple[int,int] :\n",
    "        return int(self.rank), int(self.rank)\n",
    "    "
   ]
  },
  {
   "cell_type": "code",
   "execution_count": 8,
   "id": "6d6c3b38",
   "metadata": {},
   "outputs": [],
   "source": [
    "class AceCard(Card) :\n",
    "    def _points(self) -> Tuple[int,int] :\n",
    "        return 1,11"
   ]
  },
  {
   "cell_type": "code",
   "execution_count": 9,
   "id": "440abae0",
   "metadata": {},
   "outputs": [],
   "source": [
    "class FaceCard(Card) :\n",
    "    def _points(self) -> Tuple[int,int] :\n",
    "        return 10,10"
   ]
  },
  {
   "cell_type": "code",
   "execution_count": 10,
   "id": "05e6eab2",
   "metadata": {},
   "outputs": [],
   "source": [
    "cards = [AceCard('A','♣️'), Card('2','♣️'),FaceCard('J','♣️')]"
   ]
  },
  {
   "cell_type": "code",
   "execution_count": 12,
   "id": "94b55906",
   "metadata": {},
   "outputs": [
    {
     "data": {
      "text/plain": [
       "<__main__.AceCard at 0x103d1a010>"
      ]
     },
     "execution_count": 12,
     "metadata": {},
     "output_type": "execute_result"
    }
   ],
   "source": [
    "cards[0]"
   ]
  },
  {
   "cell_type": "code",
   "execution_count": 14,
   "id": "bcf6dad9",
   "metadata": {},
   "outputs": [
    {
     "data": {
      "text/plain": [
       "('A', '♣️', 1, 11)"
      ]
     },
     "execution_count": 14,
     "metadata": {},
     "output_type": "execute_result"
    }
   ],
   "source": [
    "cards[0].rank, cards[0].suit, cards[0].hard, cards[0].soft"
   ]
  },
  {
   "cell_type": "code",
   "execution_count": null,
   "id": "e8bf6398",
   "metadata": {},
   "outputs": [],
   "source": []
  }
 ],
 "metadata": {
  "kernelspec": {
   "display_name": "Python 3 (ipykernel)",
   "language": "python",
   "name": "python3"
  },
  "language_info": {
   "codemirror_mode": {
    "name": "ipython",
    "version": 3
   },
   "file_extension": ".py",
   "mimetype": "text/x-python",
   "name": "python",
   "nbconvert_exporter": "python",
   "pygments_lexer": "ipython3",
   "version": "3.11.3"
  }
 },
 "nbformat": 4,
 "nbformat_minor": 5
}
