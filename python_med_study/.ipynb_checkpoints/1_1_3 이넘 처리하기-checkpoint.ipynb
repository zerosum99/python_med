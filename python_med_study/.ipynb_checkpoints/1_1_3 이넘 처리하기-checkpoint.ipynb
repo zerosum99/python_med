{
 "cells": [
  {
   "cell_type": "code",
   "execution_count": 1,
   "id": "82d16970",
   "metadata": {},
   "outputs": [],
   "source": [
    "import enum"
   ]
  },
  {
   "cell_type": "code",
   "execution_count": null,
   "id": "c3db165a",
   "metadata": {},
   "outputs": [],
   "source": []
  },
  {
   "cell_type": "code",
   "execution_count": 14,
   "id": "be4ad706",
   "metadata": {},
   "outputs": [],
   "source": [
    "class Color(enum.Enum):\n",
    "    RED = 1\n",
    "    GREEN = 2\n",
    "    BLUE = 3"
   ]
  },
  {
   "cell_type": "code",
   "execution_count": 19,
   "id": "6c43f9f7",
   "metadata": {},
   "outputs": [
    {
     "name": "stdout",
     "output_type": "stream",
     "text": [
      "Color.RED\n",
      "RED\n",
      "1\n"
     ]
    }
   ],
   "source": [
    "print(Color.RED)            # 출력: Color.RED\n",
    "print(Color.RED.name)            # 출력: Color.RED\n",
    "print(Color.RED.value)      # 출력: 1"
   ]
  },
  {
   "cell_type": "code",
   "execution_count": 21,
   "id": "a3615801",
   "metadata": {},
   "outputs": [
    {
     "name": "stdout",
     "output_type": "stream",
     "text": [
      "Color.RED\n",
      "Color.GREEN\n",
      "Color.BLUE\n"
     ]
    }
   ],
   "source": [
    "for skill in Color:\n",
    "    print(skill)"
   ]
  },
  {
   "cell_type": "code",
   "execution_count": 15,
   "id": "f867be6d",
   "metadata": {},
   "outputs": [
    {
     "name": "stdout",
     "output_type": "stream",
     "text": [
      "Color.RED\n",
      "1\n",
      "The color is green.\n"
     ]
    }
   ],
   "source": [
    "print(Color.RED)            # 출력: Color.RED\n",
    "print(Color.RED.value)      # 출력: 1\n",
    "\n",
    "# 조건문과 함께 사용하기\n",
    "color = Color.GREEN\n",
    "if color == Color.GREEN:\n",
    "    print(\"The color is green.\")\n",
    "else:\n",
    "    print(\"The color is not green.\")"
   ]
  },
  {
   "cell_type": "code",
   "execution_count": null,
   "id": "79d276f2",
   "metadata": {},
   "outputs": [],
   "source": []
  },
  {
   "cell_type": "code",
   "execution_count": 12,
   "id": "a065d0b5",
   "metadata": {},
   "outputs": [],
   "source": [
    "class Color(enum.Enum):\n",
    "    RED = 'red'\n",
    "    GREEN = 'green'\n",
    "    BLUE = 'blue'"
   ]
  },
  {
   "cell_type": "code",
   "execution_count": 13,
   "id": "c104ef48",
   "metadata": {},
   "outputs": [
    {
     "name": "stdout",
     "output_type": "stream",
     "text": [
      "Color.RED\n",
      "red\n",
      "The color is green.\n"
     ]
    }
   ],
   "source": [
    "print(Color.RED)           # 출력: Color.RED\n",
    "print(Color.RED.value)     # 출력: red\n",
    "\n",
    "color = Color.GREEN\n",
    "if color == Color.GREEN:\n",
    "    print(\"The color is green.\")\n",
    "else:\n",
    "    print(\"The color is not green.\")"
   ]
  },
  {
   "cell_type": "code",
   "execution_count": null,
   "id": "0f53a196",
   "metadata": {},
   "outputs": [],
   "source": []
  },
  {
   "cell_type": "code",
   "execution_count": 23,
   "id": "591a4a1a",
   "metadata": {},
   "outputs": [],
   "source": [
    "Skill = enum.Enum(\"Skill\", \"HTML CSS JS\")"
   ]
  },
  {
   "cell_type": "code",
   "execution_count": 24,
   "id": "e6303780",
   "metadata": {},
   "outputs": [
    {
     "data": {
      "text/plain": [
       "<enum 'Skill'>"
      ]
     },
     "execution_count": 24,
     "metadata": {},
     "output_type": "execute_result"
    }
   ],
   "source": [
    "Skill"
   ]
  },
  {
   "cell_type": "code",
   "execution_count": 25,
   "id": "a8830144",
   "metadata": {},
   "outputs": [
    {
     "name": "stdout",
     "output_type": "stream",
     "text": [
      "Skill.HTML\n",
      "Skill.CSS\n",
      "Skill.JS\n"
     ]
    }
   ],
   "source": [
    "for skill in Skill :\n",
    "    print(skill)"
   ]
  },
  {
   "cell_type": "code",
   "execution_count": null,
   "id": "c133496b",
   "metadata": {},
   "outputs": [],
   "source": []
  },
  {
   "cell_type": "code",
   "execution_count": 26,
   "id": "b72d6c93",
   "metadata": {},
   "outputs": [],
   "source": [
    "from enum import Enum, auto\n",
    "\n",
    "class Skill(Enum):\n",
    "    HTML = auto()\n",
    "    CSS = auto()\n",
    "    JS = auto()"
   ]
  },
  {
   "cell_type": "code",
   "execution_count": 32,
   "id": "98dc7bc7",
   "metadata": {},
   "outputs": [
    {
     "name": "stdout",
     "output_type": "stream",
     "text": [
      "Skill.HTML, HTML\n",
      "Skill.CSS, CSS\n",
      "Skill.JS, JS\n"
     ]
    }
   ],
   "source": [
    "for skill in Skill :\n",
    "    print(skill, skill.value,sep=\", \")"
   ]
  },
  {
   "cell_type": "code",
   "execution_count": null,
   "id": "67497604",
   "metadata": {},
   "outputs": [],
   "source": []
  },
  {
   "cell_type": "markdown",
   "id": "c68d1bad",
   "metadata": {},
   "source": [
    "## enum mixin\n",
    "\n",
    "- enum 타입을 사용할 때 한 가지 불편할 수 있는 점은 상수의 이름이나 값에 접근할 때 name이나 value 속성을 사용해야 한다는 것입니다."
   ]
  },
  {
   "cell_type": "code",
   "execution_count": 40,
   "id": "5620e54d",
   "metadata": {},
   "outputs": [],
   "source": [
    "class Skill(Enum):\n",
    "    def _generate_next_value_(name, start, count, last_values):\n",
    "        return name\n",
    "\n",
    "    HTML = auto()\n",
    "    CSS = auto()\n",
    "    JS = auto()"
   ]
  },
  {
   "cell_type": "code",
   "execution_count": 41,
   "id": "728c561c",
   "metadata": {},
   "outputs": [
    {
     "name": "stdout",
     "output_type": "stream",
     "text": [
      "HTML\n",
      "CSS\n",
      "JS\n"
     ]
    }
   ],
   "source": [
    "for skill in Skill :\n",
    "    print(skill.value)"
   ]
  },
  {
   "cell_type": "code",
   "execution_count": 42,
   "id": "2aaffacb",
   "metadata": {},
   "outputs": [
    {
     "data": {
      "text/plain": [
       "True"
      ]
     },
     "execution_count": 42,
     "metadata": {},
     "output_type": "execute_result"
    }
   ],
   "source": [
    "Skill.HTML.name == 'HTML'"
   ]
  },
  {
   "cell_type": "code",
   "execution_count": 43,
   "id": "69bfb9a1",
   "metadata": {},
   "outputs": [
    {
     "data": {
      "text/plain": [
       "False"
      ]
     },
     "execution_count": 43,
     "metadata": {},
     "output_type": "execute_result"
    }
   ],
   "source": [
    "Skill.HTML.value == 1"
   ]
  },
  {
   "cell_type": "code",
   "execution_count": 44,
   "id": "5421d10a",
   "metadata": {},
   "outputs": [
    {
     "data": {
      "text/plain": [
       "False"
      ]
     },
     "execution_count": 44,
     "metadata": {},
     "output_type": "execute_result"
    }
   ],
   "source": [
    "Skill.HTML == 'HTML'"
   ]
  },
  {
   "cell_type": "code",
   "execution_count": 45,
   "id": "c0b8b3f5",
   "metadata": {},
   "outputs": [
    {
     "data": {
      "text/plain": [
       "<enum 'Skill'>"
      ]
     },
     "execution_count": 45,
     "metadata": {},
     "output_type": "execute_result"
    }
   ],
   "source": [
    "type(Skill.HTML)"
   ]
  },
  {
   "cell_type": "code",
   "execution_count": null,
   "id": "a73b6e95",
   "metadata": {},
   "outputs": [],
   "source": []
  },
  {
   "cell_type": "code",
   "execution_count": 46,
   "id": "9835e6a3",
   "metadata": {},
   "outputs": [],
   "source": [
    "class StrEnum(str, Enum):\n",
    "    def _generate_next_value_(name, start, count, last_values):\n",
    "        return name\n",
    "\n",
    "    def __repr__(self):\n",
    "        return self.name\n",
    "\n",
    "    def __str__(self):\n",
    "        return self.name"
   ]
  },
  {
   "cell_type": "code",
   "execution_count": 47,
   "id": "616d27c3",
   "metadata": {},
   "outputs": [],
   "source": [
    "class Skill(StrEnum):\n",
    "    HTML = auto()\n",
    "    CSS = auto()\n",
    "    JS = auto()"
   ]
  },
  {
   "cell_type": "code",
   "execution_count": 48,
   "id": "e7294ae7",
   "metadata": {},
   "outputs": [
    {
     "name": "stdout",
     "output_type": "stream",
     "text": [
      "HTML, HTML\n",
      "CSS, CSS\n",
      "JS, JS\n"
     ]
    }
   ],
   "source": [
    "for skill in Skill :\n",
    "    print(skill, skill.value,sep=\", \")"
   ]
  },
  {
   "cell_type": "code",
   "execution_count": null,
   "id": "d438db1b",
   "metadata": {},
   "outputs": [],
   "source": []
  },
  {
   "cell_type": "code",
   "execution_count": null,
   "id": "23c90cea",
   "metadata": {},
   "outputs": [],
   "source": []
  },
  {
   "cell_type": "code",
   "execution_count": null,
   "id": "438a9943",
   "metadata": {},
   "outputs": [],
   "source": []
  },
  {
   "cell_type": "code",
   "execution_count": 16,
   "id": "3d6a4d49",
   "metadata": {},
   "outputs": [],
   "source": [
    "class Suit (str, enum.Enum) :\n",
    "    Club = \"♣️\"\n",
    "    Diamond = \"♦️\"\n",
    "    Heart=\"❤️ \"\n",
    "    Spade = \"♠️\""
   ]
  },
  {
   "cell_type": "code",
   "execution_count": 17,
   "id": "472ee494",
   "metadata": {},
   "outputs": [
    {
     "data": {
      "text/plain": [
       "<Suit.Club: '♣️'>"
      ]
     },
     "execution_count": 17,
     "metadata": {},
     "output_type": "execute_result"
    }
   ],
   "source": [
    "Suit.Club"
   ]
  },
  {
   "cell_type": "code",
   "execution_count": 18,
   "id": "0f440552",
   "metadata": {},
   "outputs": [
    {
     "data": {
      "text/plain": [
       "'♣️'"
      ]
     },
     "execution_count": 18,
     "metadata": {},
     "output_type": "execute_result"
    }
   ],
   "source": [
    "Suit.Club.value"
   ]
  },
  {
   "cell_type": "code",
   "execution_count": 10,
   "id": "8b244122",
   "metadata": {},
   "outputs": [],
   "source": [
    "## 변경할 수 없다. "
   ]
  },
  {
   "cell_type": "code",
   "execution_count": 11,
   "id": "4ffcf0bc",
   "metadata": {},
   "outputs": [
    {
     "ename": "AttributeError",
     "evalue": "<enum 'Enum'> cannot set attribute 'value'",
     "output_type": "error",
     "traceback": [
      "\u001b[0;31m---------------------------------------------------------------------------\u001b[0m",
      "\u001b[0;31mAttributeError\u001b[0m                            Traceback (most recent call last)",
      "Cell \u001b[0;32mIn[11], line 1\u001b[0m\n\u001b[0;32m----> 1\u001b[0m \u001b[43mSuit\u001b[49m\u001b[38;5;241;43m.\u001b[39;49m\u001b[43mClub\u001b[49m\u001b[38;5;241;43m.\u001b[39;49m\u001b[43mvalue\u001b[49m  \u001b[38;5;241m=\u001b[39m \u001b[38;5;124m'\u001b[39m\u001b[38;5;124mH\u001b[39m\u001b[38;5;124m'\u001b[39m\n",
      "File \u001b[0;32m~/opt/anaconda3/envs/fluentPython/lib/python3.11/enum.py:210\u001b[0m, in \u001b[0;36mproperty.__set__\u001b[0;34m(self, instance, value)\u001b[0m\n\u001b[1;32m    208\u001b[0m \u001b[38;5;28;01mdef\u001b[39;00m \u001b[38;5;21m__set__\u001b[39m(\u001b[38;5;28mself\u001b[39m, instance, value):\n\u001b[1;32m    209\u001b[0m     \u001b[38;5;28;01mif\u001b[39;00m \u001b[38;5;28mself\u001b[39m\u001b[38;5;241m.\u001b[39mfset \u001b[38;5;129;01mis\u001b[39;00m \u001b[38;5;28;01mNone\u001b[39;00m:\n\u001b[0;32m--> 210\u001b[0m         \u001b[38;5;28;01mraise\u001b[39;00m \u001b[38;5;167;01mAttributeError\u001b[39;00m(\n\u001b[1;32m    211\u001b[0m                 \u001b[38;5;124m\"\u001b[39m\u001b[38;5;124m<enum \u001b[39m\u001b[38;5;132;01m%r\u001b[39;00m\u001b[38;5;124m> cannot set attribute \u001b[39m\u001b[38;5;132;01m%r\u001b[39;00m\u001b[38;5;124m\"\u001b[39m \u001b[38;5;241m%\u001b[39m (\u001b[38;5;28mself\u001b[39m\u001b[38;5;241m.\u001b[39mclsname, \u001b[38;5;28mself\u001b[39m\u001b[38;5;241m.\u001b[39mname)\n\u001b[1;32m    212\u001b[0m                 )\n\u001b[1;32m    213\u001b[0m     \u001b[38;5;28;01melse\u001b[39;00m:\n\u001b[1;32m    214\u001b[0m         \u001b[38;5;28;01mreturn\u001b[39;00m \u001b[38;5;28mself\u001b[39m\u001b[38;5;241m.\u001b[39mfset(instance, value)\n",
      "\u001b[0;31mAttributeError\u001b[0m: <enum 'Enum'> cannot set attribute 'value'"
     ]
    }
   ],
   "source": [
    "Suit.Club.value  = 'H'"
   ]
  },
  {
   "cell_type": "code",
   "execution_count": null,
   "id": "42169028",
   "metadata": {},
   "outputs": [],
   "source": []
  }
 ],
 "metadata": {
  "kernelspec": {
   "display_name": "Python 3 (ipykernel)",
   "language": "python",
   "name": "python3"
  },
  "language_info": {
   "codemirror_mode": {
    "name": "ipython",
    "version": 3
   },
   "file_extension": ".py",
   "mimetype": "text/x-python",
   "name": "python",
   "nbconvert_exporter": "python",
   "pygments_lexer": "ipython3",
   "version": "3.11.3"
  }
 },
 "nbformat": 4,
 "nbformat_minor": 5
}
