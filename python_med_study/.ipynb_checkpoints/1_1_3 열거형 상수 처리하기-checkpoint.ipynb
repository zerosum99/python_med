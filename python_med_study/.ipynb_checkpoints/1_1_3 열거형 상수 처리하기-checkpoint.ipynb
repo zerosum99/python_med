{
 "cells": [
  {
   "cell_type": "markdown",
   "id": "769b0371",
   "metadata": {},
   "source": [
    "## 열거형 상수 정의하기 "
   ]
  },
  {
   "cell_type": "markdown",
   "id": "f69eba47",
   "metadata": {},
   "source": [
    "### 열거형 모듈을 사용하기 "
   ]
  },
  {
   "cell_type": "code",
   "execution_count": 1,
   "id": "bc800be7",
   "metadata": {},
   "outputs": [],
   "source": [
    "import enum"
   ]
  },
  {
   "cell_type": "code",
   "execution_count": null,
   "id": "6442877e",
   "metadata": {},
   "outputs": [],
   "source": []
  },
  {
   "cell_type": "markdown",
   "id": "385820bb",
   "metadata": {},
   "source": [
    "### 클래스 정의에 열거형을 상속한다 \n",
    "- 그리고 해당되는 객체를 내부에 정의한다\n",
    "- 열거형은 대문자로 정의하고 해당 값을 할당할 수 있다. "
   ]
  },
  {
   "cell_type": "code",
   "execution_count": 14,
   "id": "625ab3ed",
   "metadata": {},
   "outputs": [],
   "source": [
    "class Color(enum.Enum):\n",
    "    RED = 1\n",
    "    GREEN = 2\n",
    "    BLUE = 3"
   ]
  },
  {
   "cell_type": "code",
   "execution_count": 19,
   "id": "95d82707",
   "metadata": {},
   "outputs": [
    {
     "name": "stdout",
     "output_type": "stream",
     "text": [
      "Color.RED\n",
      "RED\n",
      "1\n"
     ]
    }
   ],
   "source": [
    "print(Color.RED)            # 출력: Color.RED\n",
    "print(Color.RED.name)            # 출력: Color.RED\n",
    "print(Color.RED.value)      # 출력: 1"
   ]
  },
  {
   "cell_type": "markdown",
   "id": "dfd09aad",
   "metadata": {},
   "source": [
    "### 열거형을 순환해서 출력 할 수 있다, "
   ]
  },
  {
   "cell_type": "code",
   "execution_count": 21,
   "id": "85f7a517",
   "metadata": {},
   "outputs": [
    {
     "name": "stdout",
     "output_type": "stream",
     "text": [
      "Color.RED\n",
      "Color.GREEN\n",
      "Color.BLUE\n"
     ]
    }
   ],
   "source": [
    "for skill in Color:\n",
    "    print(skill)"
   ]
  },
  {
   "cell_type": "markdown",
   "id": "11f138bf",
   "metadata": {},
   "source": [
    "### 열거형 객체에 대한 속성을 출력하기 "
   ]
  },
  {
   "cell_type": "code",
   "execution_count": 49,
   "id": "f407f604",
   "metadata": {},
   "outputs": [
    {
     "name": "stdout",
     "output_type": "stream",
     "text": [
      "RED\n",
      "1\n"
     ]
    }
   ],
   "source": [
    "print(Color.RED.name)            # 출력: Color.RED\n",
    "print(Color.RED.value)      # 출력: 1"
   ]
  },
  {
   "cell_type": "markdown",
   "id": "0164d1b4",
   "metadata": {},
   "source": [
    "### 조건문과 함께 사용하기"
   ]
  },
  {
   "cell_type": "code",
   "execution_count": 50,
   "id": "8630ca0d",
   "metadata": {},
   "outputs": [
    {
     "name": "stdout",
     "output_type": "stream",
     "text": [
      "The color is green.\n"
     ]
    }
   ],
   "source": [
    "color = Color.GREEN\n",
    "if color == Color.GREEN:\n",
    "    print(\"The color is green.\")\n",
    "else:\n",
    "    print(\"The color is not green.\")"
   ]
  },
  {
   "cell_type": "code",
   "execution_count": null,
   "id": "23c452e6",
   "metadata": {},
   "outputs": [],
   "source": []
  },
  {
   "cell_type": "code",
   "execution_count": null,
   "id": "6036309b",
   "metadata": {},
   "outputs": [],
   "source": []
  },
  {
   "cell_type": "code",
   "execution_count": 12,
   "id": "75f72143",
   "metadata": {},
   "outputs": [],
   "source": [
    "class Color(enum.Enum):\n",
    "    RED = 'red'\n",
    "    GREEN = 'green'\n",
    "    BLUE = 'blue'"
   ]
  },
  {
   "cell_type": "code",
   "execution_count": 13,
   "id": "05e6164b",
   "metadata": {},
   "outputs": [
    {
     "name": "stdout",
     "output_type": "stream",
     "text": [
      "Color.RED\n",
      "red\n",
      "The color is green.\n"
     ]
    }
   ],
   "source": [
    "print(Color.RED)           # 출력: Color.RED\n",
    "print(Color.RED.value)     # 출력: red\n",
    "\n",
    "color = Color.GREEN\n",
    "if color == Color.GREEN:\n",
    "    print(\"The color is green.\")\n",
    "else:\n",
    "    print(\"The color is not green.\")"
   ]
  },
  {
   "cell_type": "code",
   "execution_count": null,
   "id": "f18dd4fa",
   "metadata": {},
   "outputs": [],
   "source": []
  },
  {
   "cell_type": "code",
   "execution_count": 23,
   "id": "d0d8fb19",
   "metadata": {},
   "outputs": [],
   "source": [
    "Skill = enum.Enum(\"Skill\", \"HTML CSS JS\")"
   ]
  },
  {
   "cell_type": "code",
   "execution_count": 24,
   "id": "c7b47b8c",
   "metadata": {},
   "outputs": [
    {
     "data": {
      "text/plain": [
       "<enum 'Skill'>"
      ]
     },
     "execution_count": 24,
     "metadata": {},
     "output_type": "execute_result"
    }
   ],
   "source": [
    "Skill"
   ]
  },
  {
   "cell_type": "code",
   "execution_count": 25,
   "id": "38305b2b",
   "metadata": {},
   "outputs": [
    {
     "name": "stdout",
     "output_type": "stream",
     "text": [
      "Skill.HTML\n",
      "Skill.CSS\n",
      "Skill.JS\n"
     ]
    }
   ],
   "source": [
    "for skill in Skill :\n",
    "    print(skill)"
   ]
  },
  {
   "cell_type": "code",
   "execution_count": null,
   "id": "a63bdd06",
   "metadata": {},
   "outputs": [],
   "source": []
  },
  {
   "cell_type": "code",
   "execution_count": 26,
   "id": "13e66bd9",
   "metadata": {},
   "outputs": [],
   "source": [
    "from enum import Enum, auto\n",
    "\n",
    "class Skill(Enum):\n",
    "    HTML = auto()\n",
    "    CSS = auto()\n",
    "    JS = auto()"
   ]
  },
  {
   "cell_type": "code",
   "execution_count": 32,
   "id": "a61a9752",
   "metadata": {},
   "outputs": [
    {
     "name": "stdout",
     "output_type": "stream",
     "text": [
      "Skill.HTML, HTML\n",
      "Skill.CSS, CSS\n",
      "Skill.JS, JS\n"
     ]
    }
   ],
   "source": [
    "for skill in Skill :\n",
    "    print(skill, skill.value,sep=\", \")"
   ]
  },
  {
   "cell_type": "code",
   "execution_count": null,
   "id": "1e21ab4d",
   "metadata": {},
   "outputs": [],
   "source": []
  },
  {
   "cell_type": "markdown",
   "id": "8604f8bd",
   "metadata": {},
   "source": [
    "## enum mixin\n",
    "\n",
    "- enum 타입을 사용할 때 한 가지 불편할 수 있는 점은 상수의 이름이나 값에 접근할 때 name이나 value 속성을 사용해야 한다는 것입니다."
   ]
  },
  {
   "cell_type": "code",
   "execution_count": 40,
   "id": "1b0acbdf",
   "metadata": {},
   "outputs": [],
   "source": [
    "class Skill(Enum):\n",
    "    def _generate_next_value_(name, start, count, last_values):\n",
    "        return name\n",
    "\n",
    "    HTML = auto()\n",
    "    CSS = auto()\n",
    "    JS = auto()"
   ]
  },
  {
   "cell_type": "code",
   "execution_count": 41,
   "id": "3704924f",
   "metadata": {},
   "outputs": [
    {
     "name": "stdout",
     "output_type": "stream",
     "text": [
      "HTML\n",
      "CSS\n",
      "JS\n"
     ]
    }
   ],
   "source": [
    "for skill in Skill :\n",
    "    print(skill.value)"
   ]
  },
  {
   "cell_type": "code",
   "execution_count": 42,
   "id": "3648e8e7",
   "metadata": {},
   "outputs": [
    {
     "data": {
      "text/plain": [
       "True"
      ]
     },
     "execution_count": 42,
     "metadata": {},
     "output_type": "execute_result"
    }
   ],
   "source": [
    "Skill.HTML.name == 'HTML'"
   ]
  },
  {
   "cell_type": "code",
   "execution_count": 43,
   "id": "1ccb74ba",
   "metadata": {},
   "outputs": [
    {
     "data": {
      "text/plain": [
       "False"
      ]
     },
     "execution_count": 43,
     "metadata": {},
     "output_type": "execute_result"
    }
   ],
   "source": [
    "Skill.HTML.value == 1"
   ]
  },
  {
   "cell_type": "code",
   "execution_count": 44,
   "id": "cac84ba3",
   "metadata": {},
   "outputs": [
    {
     "data": {
      "text/plain": [
       "False"
      ]
     },
     "execution_count": 44,
     "metadata": {},
     "output_type": "execute_result"
    }
   ],
   "source": [
    "Skill.HTML == 'HTML'"
   ]
  },
  {
   "cell_type": "code",
   "execution_count": 45,
   "id": "8a6b1aed",
   "metadata": {},
   "outputs": [
    {
     "data": {
      "text/plain": [
       "<enum 'Skill'>"
      ]
     },
     "execution_count": 45,
     "metadata": {},
     "output_type": "execute_result"
    }
   ],
   "source": [
    "type(Skill.HTML)"
   ]
  },
  {
   "cell_type": "code",
   "execution_count": null,
   "id": "3dfbe96b",
   "metadata": {},
   "outputs": [],
   "source": []
  },
  {
   "cell_type": "code",
   "execution_count": 46,
   "id": "a60bc659",
   "metadata": {},
   "outputs": [],
   "source": [
    "class StrEnum(str, Enum):\n",
    "    def _generate_next_value_(name, start, count, last_values):\n",
    "        return name\n",
    "\n",
    "    def __repr__(self):\n",
    "        return self.name\n",
    "\n",
    "    def __str__(self):\n",
    "        return self.name"
   ]
  },
  {
   "cell_type": "code",
   "execution_count": 47,
   "id": "e0e5c96d",
   "metadata": {},
   "outputs": [],
   "source": [
    "class Skill(StrEnum):\n",
    "    HTML = auto()\n",
    "    CSS = auto()\n",
    "    JS = auto()"
   ]
  },
  {
   "cell_type": "code",
   "execution_count": 48,
   "id": "f456c9cc",
   "metadata": {},
   "outputs": [
    {
     "name": "stdout",
     "output_type": "stream",
     "text": [
      "HTML, HTML\n",
      "CSS, CSS\n",
      "JS, JS\n"
     ]
    }
   ],
   "source": [
    "for skill in Skill :\n",
    "    print(skill, skill.value,sep=\", \")"
   ]
  },
  {
   "cell_type": "code",
   "execution_count": null,
   "id": "d7ff7bc2",
   "metadata": {},
   "outputs": [],
   "source": []
  },
  {
   "cell_type": "code",
   "execution_count": null,
   "id": "3edd4428",
   "metadata": {},
   "outputs": [],
   "source": []
  },
  {
   "cell_type": "code",
   "execution_count": null,
   "id": "425127b0",
   "metadata": {},
   "outputs": [],
   "source": []
  },
  {
   "cell_type": "code",
   "execution_count": 16,
   "id": "0cc83e99",
   "metadata": {},
   "outputs": [],
   "source": [
    "class Suit (str, enum.Enum) :\n",
    "    Club = \"♣️\"\n",
    "    Diamond = \"♦️\"\n",
    "    Heart=\"❤️ \"\n",
    "    Spade = \"♠️\""
   ]
  },
  {
   "cell_type": "code",
   "execution_count": 17,
   "id": "f5efae42",
   "metadata": {},
   "outputs": [
    {
     "data": {
      "text/plain": [
       "<Suit.Club: '♣️'>"
      ]
     },
     "execution_count": 17,
     "metadata": {},
     "output_type": "execute_result"
    }
   ],
   "source": [
    "Suit.Club"
   ]
  },
  {
   "cell_type": "code",
   "execution_count": 18,
   "id": "1a64cfe4",
   "metadata": {},
   "outputs": [
    {
     "data": {
      "text/plain": [
       "'♣️'"
      ]
     },
     "execution_count": 18,
     "metadata": {},
     "output_type": "execute_result"
    }
   ],
   "source": [
    "Suit.Club.value"
   ]
  },
  {
   "cell_type": "code",
   "execution_count": 10,
   "id": "b5974120",
   "metadata": {},
   "outputs": [],
   "source": [
    "## 변경할 수 없다. "
   ]
  },
  {
   "cell_type": "code",
   "execution_count": 11,
   "id": "bf076636",
   "metadata": {},
   "outputs": [
    {
     "ename": "AttributeError",
     "evalue": "<enum 'Enum'> cannot set attribute 'value'",
     "output_type": "error",
     "traceback": [
      "\u001b[0;31m---------------------------------------------------------------------------\u001b[0m",
      "\u001b[0;31mAttributeError\u001b[0m                            Traceback (most recent call last)",
      "Cell \u001b[0;32mIn[11], line 1\u001b[0m\n\u001b[0;32m----> 1\u001b[0m \u001b[43mSuit\u001b[49m\u001b[38;5;241;43m.\u001b[39;49m\u001b[43mClub\u001b[49m\u001b[38;5;241;43m.\u001b[39;49m\u001b[43mvalue\u001b[49m  \u001b[38;5;241m=\u001b[39m \u001b[38;5;124m'\u001b[39m\u001b[38;5;124mH\u001b[39m\u001b[38;5;124m'\u001b[39m\n",
      "File \u001b[0;32m~/opt/anaconda3/envs/fluentPython/lib/python3.11/enum.py:210\u001b[0m, in \u001b[0;36mproperty.__set__\u001b[0;34m(self, instance, value)\u001b[0m\n\u001b[1;32m    208\u001b[0m \u001b[38;5;28;01mdef\u001b[39;00m \u001b[38;5;21m__set__\u001b[39m(\u001b[38;5;28mself\u001b[39m, instance, value):\n\u001b[1;32m    209\u001b[0m     \u001b[38;5;28;01mif\u001b[39;00m \u001b[38;5;28mself\u001b[39m\u001b[38;5;241m.\u001b[39mfset \u001b[38;5;129;01mis\u001b[39;00m \u001b[38;5;28;01mNone\u001b[39;00m:\n\u001b[0;32m--> 210\u001b[0m         \u001b[38;5;28;01mraise\u001b[39;00m \u001b[38;5;167;01mAttributeError\u001b[39;00m(\n\u001b[1;32m    211\u001b[0m                 \u001b[38;5;124m\"\u001b[39m\u001b[38;5;124m<enum \u001b[39m\u001b[38;5;132;01m%r\u001b[39;00m\u001b[38;5;124m> cannot set attribute \u001b[39m\u001b[38;5;132;01m%r\u001b[39;00m\u001b[38;5;124m\"\u001b[39m \u001b[38;5;241m%\u001b[39m (\u001b[38;5;28mself\u001b[39m\u001b[38;5;241m.\u001b[39mclsname, \u001b[38;5;28mself\u001b[39m\u001b[38;5;241m.\u001b[39mname)\n\u001b[1;32m    212\u001b[0m                 )\n\u001b[1;32m    213\u001b[0m     \u001b[38;5;28;01melse\u001b[39;00m:\n\u001b[1;32m    214\u001b[0m         \u001b[38;5;28;01mreturn\u001b[39;00m \u001b[38;5;28mself\u001b[39m\u001b[38;5;241m.\u001b[39mfset(instance, value)\n",
      "\u001b[0;31mAttributeError\u001b[0m: <enum 'Enum'> cannot set attribute 'value'"
     ]
    }
   ],
   "source": [
    "Suit.Club.value  = 'H'"
   ]
  },
  {
   "cell_type": "code",
   "execution_count": null,
   "id": "c5b1dc37",
   "metadata": {},
   "outputs": [],
   "source": []
  }
 ],
 "metadata": {
  "kernelspec": {
   "display_name": "Python 3 (ipykernel)",
   "language": "python",
   "name": "python3"
  },
  "language_info": {
   "codemirror_mode": {
    "name": "ipython",
    "version": 3
   },
   "file_extension": ".py",
   "mimetype": "text/x-python",
   "name": "python",
   "nbconvert_exporter": "python",
   "pygments_lexer": "ipython3",
   "version": "3.11.3"
  }
 },
 "nbformat": 4,
 "nbformat_minor": 5
}
