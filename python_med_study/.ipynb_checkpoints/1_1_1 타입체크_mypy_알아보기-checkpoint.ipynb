{
 "cells": [
  {
   "cell_type": "code",
   "execution_count": 10,
   "id": "b5e46c24",
   "metadata": {},
   "outputs": [
    {
     "name": "stdout",
     "output_type": "stream",
     "text": [
      "Writing version.py\n"
     ]
    }
   ],
   "source": [
    "%%writefile version.py\n",
    "\n",
    "import platform\n",
    "\n",
    "def version() :\n",
    "    print(platform.version())\n",
    "    print(f\"파이썬 버전 : {platform.python_version()}\")"
   ]
  },
  {
   "cell_type": "code",
   "execution_count": 11,
   "id": "35a8ed61",
   "metadata": {},
   "outputs": [
    {
     "name": "stdout",
     "output_type": "stream",
     "text": [
      "Darwin Kernel Version 22.4.0: Mon Mar  6 20:59:28 PST 2023; root:xnu-8796.101.5~3/RELEASE_ARM64_T6000\n",
      "파이썬 버전 : 3.11.3\n"
     ]
    }
   ],
   "source": [
    "import version\n",
    "\n",
    "version.version()"
   ]
  },
  {
   "cell_type": "markdown",
   "id": "a1f82cef",
   "metadata": {},
   "source": [
    "### 타입체크 모듈 설치\n",
    "- pip install mypy"
   ]
  },
  {
   "cell_type": "code",
   "execution_count": 8,
   "id": "f4576cb0",
   "metadata": {},
   "outputs": [
    {
     "name": "stdout",
     "output_type": "stream",
     "text": [
      "Writing typecheck.py\n"
     ]
    }
   ],
   "source": [
    "%%writefile typecheck.py\n",
    "def F(n:int) -> int :\n",
    "    if n in (0,1) :\n",
    "        return 1\n",
    "    else :\n",
    "        return F(n-1) + F(n-2)\n",
    "    \n",
    "print(\"Good Use\", F(8))\n",
    "print(\"Bad Use\", F(355/113))"
   ]
  },
  {
   "cell_type": "code",
   "execution_count": 9,
   "id": "b3e6a50e",
   "metadata": {},
   "outputs": [
    {
     "name": "stdout",
     "output_type": "stream",
     "text": [
      "typecheck.py:8: \u001b[1m\u001b[31merror:\u001b[m Argument 1 to \u001b[m\u001b[1m\"F\"\u001b[m has incompatible type \u001b[m\u001b[1m\"float\"\u001b[m; expected \u001b[m\u001b[1m\"int\"\u001b[m  \u001b[m\u001b[33m[arg-type]\u001b[m\r\n",
      "\u001b[1m\u001b[31mFound 1 error in 1 file (checked 1 source file)\u001b[m\r\n"
     ]
    }
   ],
   "source": [
    "!mypy ./typecheck.py"
   ]
  },
  {
   "cell_type": "code",
   "execution_count": null,
   "id": "30592a37",
   "metadata": {},
   "outputs": [],
   "source": []
  }
 ],
 "metadata": {
  "kernelspec": {
   "display_name": "Python 3 (ipykernel)",
   "language": "python",
   "name": "python3"
  },
  "language_info": {
   "codemirror_mode": {
    "name": "ipython",
    "version": 3
   },
   "file_extension": ".py",
   "mimetype": "text/x-python",
   "name": "python",
   "nbconvert_exporter": "python",
   "pygments_lexer": "ipython3",
   "version": "3.11.3"
  }
 },
 "nbformat": 4,
 "nbformat_minor": 5
}
