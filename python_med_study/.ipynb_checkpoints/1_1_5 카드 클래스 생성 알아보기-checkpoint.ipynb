{
 "cells": [
  {
   "cell_type": "code",
   "execution_count": null,
   "id": "d3cfe132",
   "metadata": {},
   "outputs": [],
   "source": [
    "%%writefile Card.py\n",
    "from typing import Tuple\n",
    "\n",
    "class Card :\n",
    "    def __init__(self, rank:str, suit:str) -> None :\n",
    "        self.rank = rank\n",
    "        self.suit = suit\n",
    "        self.hard, self.soft = self._points()   # 내부에서 호출하는 메서드\n",
    "        \n",
    "    def _points(self) -> Tuple[int,int] :\n",
    "        return int(self.rank), int(self.rank)\n",
    "    \n",
    "class AceCard(Card) :\n",
    "    def _points(self) -> Tuple[int,int] :\n",
    "        return 1,11\n",
    "    \n",
    "class FaceCard(Card) :\n",
    "    def _points(self) -> Tuple[int,int] :\n",
    "        return 10,10"
   ]
  },
  {
   "cell_type": "code",
   "execution_count": 1,
   "id": "c37ec540",
   "metadata": {},
   "outputs": [],
   "source": [
    "\n",
    "from typing import Tuple"
   ]
  },
  {
   "cell_type": "code",
   "execution_count": 7,
   "id": "d826d7ec",
   "metadata": {},
   "outputs": [],
   "source": [
    "class Card :\n",
    "    def __init__(self, rank:str, suit:str) -> None :\n",
    "        self.rank = rank\n",
    "        self.suit = suit\n",
    "        self.hard, self.soft = self._points()   # 내부에서 호출하는 메서드\n",
    "        \n",
    "    def _points(self) -> Tuple[int,int] :\n",
    "        return int(self.rank), int(self.rank)\n",
    "    "
   ]
  },
  {
   "cell_type": "code",
   "execution_count": 8,
   "id": "b8784df4",
   "metadata": {},
   "outputs": [],
   "source": [
    "class AceCard(Card) :\n",
    "    def _points(self) -> Tuple[int,int] :\n",
    "        return 1,11"
   ]
  },
  {
   "cell_type": "code",
   "execution_count": 9,
   "id": "85010bc1",
   "metadata": {},
   "outputs": [],
   "source": [
    "class FaceCard(Card) :\n",
    "    def _points(self) -> Tuple[int,int] :\n",
    "        return 10,10"
   ]
  },
  {
   "cell_type": "code",
   "execution_count": 10,
   "id": "0da413a7",
   "metadata": {},
   "outputs": [],
   "source": [
    "cards = [AceCard('A','♣️'), Card('2','♣️'),FaceCard('J','♣️')]"
   ]
  },
  {
   "cell_type": "code",
   "execution_count": 12,
   "id": "1faf82ed",
   "metadata": {},
   "outputs": [
    {
     "data": {
      "text/plain": [
       "<__main__.AceCard at 0x103d1a010>"
      ]
     },
     "execution_count": 12,
     "metadata": {},
     "output_type": "execute_result"
    }
   ],
   "source": [
    "cards[0]"
   ]
  },
  {
   "cell_type": "code",
   "execution_count": 14,
   "id": "3183239a",
   "metadata": {},
   "outputs": [
    {
     "data": {
      "text/plain": [
       "('A', '♣️', 1, 11)"
      ]
     },
     "execution_count": 14,
     "metadata": {},
     "output_type": "execute_result"
    }
   ],
   "source": [
    "cards[0].rank, cards[0].suit, cards[0].hard, cards[0].soft"
   ]
  },
  {
   "cell_type": "code",
   "execution_count": null,
   "id": "628c8b54",
   "metadata": {},
   "outputs": [],
   "source": []
  }
 ],
 "metadata": {
  "kernelspec": {
   "display_name": "Python 3 (ipykernel)",
   "language": "python",
   "name": "python3"
  },
  "language_info": {
   "codemirror_mode": {
    "name": "ipython",
    "version": 3
   },
   "file_extension": ".py",
   "mimetype": "text/x-python",
   "name": "python",
   "nbconvert_exporter": "python",
   "pygments_lexer": "ipython3",
   "version": "3.11.3"
  }
 },
 "nbformat": 4,
 "nbformat_minor": 5
}
