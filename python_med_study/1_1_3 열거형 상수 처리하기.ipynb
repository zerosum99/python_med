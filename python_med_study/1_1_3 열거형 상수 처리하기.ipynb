{
 "cells": [
  {
   "cell_type": "markdown",
   "id": "70a975b5",
   "metadata": {},
   "source": [
    "## 1. 열거형 상수 정의하기 "
   ]
  },
  {
   "cell_type": "markdown",
   "id": "dabac1b1",
   "metadata": {},
   "source": [
    "### 열거형 모듈을 사용하기 "
   ]
  },
  {
   "cell_type": "code",
   "execution_count": 1,
   "id": "b8fb5339",
   "metadata": {},
   "outputs": [],
   "source": [
    "import enum"
   ]
  },
  {
   "cell_type": "code",
   "execution_count": null,
   "id": "6d74e0fd",
   "metadata": {},
   "outputs": [],
   "source": []
  },
  {
   "cell_type": "markdown",
   "id": "7afcaf44",
   "metadata": {},
   "source": [
    "### 클래스 정의에 열거형을 상속한다 \n",
    "- 그리고 해당되는 객체를 내부에 정의한다\n",
    "- 열거형은 대문자로 정의하고 해당 값을 할당할 수 있다. "
   ]
  },
  {
   "cell_type": "code",
   "execution_count": 14,
   "id": "e935073f",
   "metadata": {},
   "outputs": [],
   "source": [
    "class Color(enum.Enum):\n",
    "    RED = 1\n",
    "    GREEN = 2\n",
    "    BLUE = 3"
   ]
  },
  {
   "cell_type": "code",
   "execution_count": 59,
   "id": "a2243db9",
   "metadata": {},
   "outputs": [
    {
     "data": {
      "text/plain": [
       "<enum 'Color'>"
      ]
     },
     "execution_count": 59,
     "metadata": {},
     "output_type": "execute_result"
    }
   ],
   "source": [
    "Color"
   ]
  },
  {
   "cell_type": "code",
   "execution_count": null,
   "id": "eb93765a",
   "metadata": {},
   "outputs": [],
   "source": []
  },
  {
   "cell_type": "code",
   "execution_count": 57,
   "id": "9aa65a55",
   "metadata": {},
   "outputs": [
    {
     "data": {
      "text/plain": [
       "(<enum 'Enum'>,)"
      ]
     },
     "execution_count": 57,
     "metadata": {},
     "output_type": "execute_result"
    }
   ],
   "source": [
    "Color.__bases__"
   ]
  },
  {
   "cell_type": "code",
   "execution_count": 19,
   "id": "3d8c1d3b",
   "metadata": {},
   "outputs": [
    {
     "name": "stdout",
     "output_type": "stream",
     "text": [
      "Color.RED\n",
      "RED\n",
      "1\n"
     ]
    }
   ],
   "source": [
    "print(Color.RED)            # 출력: Color.RED\n",
    "print(Color.RED.name)            # 출력: Color.RED\n",
    "print(Color.RED.value)      # 출력: 1"
   ]
  },
  {
   "cell_type": "markdown",
   "id": "9d433048",
   "metadata": {},
   "source": [
    "### 열거형을 순환해서 출력 할 수 있다, "
   ]
  },
  {
   "cell_type": "code",
   "execution_count": 21,
   "id": "b2c0ce70",
   "metadata": {},
   "outputs": [
    {
     "name": "stdout",
     "output_type": "stream",
     "text": [
      "Color.RED\n",
      "Color.GREEN\n",
      "Color.BLUE\n"
     ]
    }
   ],
   "source": [
    "for skill in Color:\n",
    "    print(skill)"
   ]
  },
  {
   "cell_type": "markdown",
   "id": "ee1cd098",
   "metadata": {},
   "source": [
    "### 열거형 객체에 대한 속성을 출력하기 "
   ]
  },
  {
   "cell_type": "code",
   "execution_count": 49,
   "id": "ec1e1b7a",
   "metadata": {},
   "outputs": [
    {
     "name": "stdout",
     "output_type": "stream",
     "text": [
      "RED\n",
      "1\n"
     ]
    }
   ],
   "source": [
    "print(Color.RED.name)            # 출력: Color.RED\n",
    "print(Color.RED.value)      # 출력: 1"
   ]
  },
  {
   "cell_type": "markdown",
   "id": "18b27461",
   "metadata": {},
   "source": [
    "### 조건문과 함께 사용하기"
   ]
  },
  {
   "cell_type": "code",
   "execution_count": 50,
   "id": "c277d21e",
   "metadata": {},
   "outputs": [
    {
     "name": "stdout",
     "output_type": "stream",
     "text": [
      "The color is green.\n"
     ]
    }
   ],
   "source": [
    "color = Color.GREEN\n",
    "if color == Color.GREEN:\n",
    "    print(\"The color is green.\")\n",
    "else:\n",
    "    print(\"The color is not green.\")"
   ]
  },
  {
   "cell_type": "code",
   "execution_count": null,
   "id": "13d32eb2",
   "metadata": {},
   "outputs": [],
   "source": []
  },
  {
   "cell_type": "markdown",
   "id": "daeda16e",
   "metadata": {},
   "source": [
    "## 2 열거형 클래스 생성할 때 지정할 값 클래스 상속하기 "
   ]
  },
  {
   "cell_type": "code",
   "execution_count": 52,
   "id": "5e7d8de5",
   "metadata": {},
   "outputs": [],
   "source": [
    "class Color_S(str, enum.Enum):\n",
    "    RED = 'red'\n",
    "    GREEN = 'green'\n",
    "    BLUE = 'blue'"
   ]
  },
  {
   "cell_type": "code",
   "execution_count": 60,
   "id": "f2f18a85",
   "metadata": {},
   "outputs": [
    {
     "data": {
      "text/plain": [
       "<enum 'Color_S'>"
      ]
     },
     "execution_count": 60,
     "metadata": {},
     "output_type": "execute_result"
    }
   ],
   "source": [
    "Color_S"
   ]
  },
  {
   "cell_type": "code",
   "execution_count": null,
   "id": "379902fa",
   "metadata": {},
   "outputs": [],
   "source": []
  },
  {
   "cell_type": "code",
   "execution_count": 56,
   "id": "4e07c60d",
   "metadata": {},
   "outputs": [
    {
     "data": {
      "text/plain": [
       "(str, <enum 'Enum'>)"
      ]
     },
     "execution_count": 56,
     "metadata": {},
     "output_type": "execute_result"
    }
   ],
   "source": [
    "Color_S.__bases__"
   ]
  },
  {
   "cell_type": "code",
   "execution_count": 53,
   "id": "e867a3b7",
   "metadata": {},
   "outputs": [
    {
     "name": "stdout",
     "output_type": "stream",
     "text": [
      "Color_S.RED\n",
      "red\n"
     ]
    }
   ],
   "source": [
    "print(Color_S.RED)           # 출력: Color.RED\n",
    "print(Color_S.RED.value)     # 출력: red"
   ]
  },
  {
   "cell_type": "code",
   "execution_count": 54,
   "id": "01c0e1bf",
   "metadata": {},
   "outputs": [
    {
     "name": "stdout",
     "output_type": "stream",
     "text": [
      "The color is green.\n"
     ]
    }
   ],
   "source": [
    "color = Color_S.GREEN\n",
    "if color == Color_S.GREEN:\n",
    "    print(\"The color is green.\")\n",
    "else:\n",
    "    print(\"The color is not green.\")"
   ]
  },
  {
   "cell_type": "markdown",
   "id": "e35c27fe",
   "metadata": {},
   "source": [
    "## 3. 이넘 클래스로 이넘 상수 생성하기 "
   ]
  },
  {
   "cell_type": "markdown",
   "id": "bcc9268c",
   "metadata": {},
   "source": [
    "## 이넘 클래스로 생성"
   ]
  },
  {
   "cell_type": "code",
   "execution_count": 23,
   "id": "d1df0fca",
   "metadata": {},
   "outputs": [],
   "source": [
    "Skill = enum.Enum(\"Skill\", \"HTML CSS JS\")"
   ]
  },
  {
   "cell_type": "code",
   "execution_count": 58,
   "id": "558c3143",
   "metadata": {},
   "outputs": [
    {
     "data": {
      "text/plain": [
       "(<enum 'StrEnum'>,)"
      ]
     },
     "execution_count": 58,
     "metadata": {},
     "output_type": "execute_result"
    }
   ],
   "source": [
    "Skill.__bases__"
   ]
  },
  {
   "cell_type": "code",
   "execution_count": null,
   "id": "e4b6e01b",
   "metadata": {},
   "outputs": [],
   "source": []
  },
  {
   "cell_type": "code",
   "execution_count": 24,
   "id": "d90e9c4b",
   "metadata": {},
   "outputs": [
    {
     "data": {
      "text/plain": [
       "<enum 'Skill'>"
      ]
     },
     "execution_count": 24,
     "metadata": {},
     "output_type": "execute_result"
    }
   ],
   "source": [
    "Skill"
   ]
  },
  {
   "cell_type": "code",
   "execution_count": 25,
   "id": "4b70619e",
   "metadata": {},
   "outputs": [
    {
     "name": "stdout",
     "output_type": "stream",
     "text": [
      "Skill.HTML\n",
      "Skill.CSS\n",
      "Skill.JS\n"
     ]
    }
   ],
   "source": [
    "for skill in Skill :\n",
    "    print(skill)"
   ]
  },
  {
   "cell_type": "markdown",
   "id": "af6e5bd4",
   "metadata": {},
   "source": [
    "## 상속해서 생성 및  값을 자동으로 지정하기"
   ]
  },
  {
   "cell_type": "code",
   "execution_count": 26,
   "id": "a8193e96",
   "metadata": {},
   "outputs": [],
   "source": [
    "from enum import Enum, auto\n",
    "\n",
    "class Skill(Enum):\n",
    "    HTML = auto()\n",
    "    CSS = auto()\n",
    "    JS = auto()"
   ]
  },
  {
   "cell_type": "code",
   "execution_count": 32,
   "id": "063b0c71",
   "metadata": {},
   "outputs": [
    {
     "name": "stdout",
     "output_type": "stream",
     "text": [
      "Skill.HTML, HTML\n",
      "Skill.CSS, CSS\n",
      "Skill.JS, JS\n"
     ]
    }
   ],
   "source": [
    "for skill in Skill :\n",
    "    print(skill, skill.value,sep=\", \")"
   ]
  },
  {
   "cell_type": "markdown",
   "id": "564777fd",
   "metadata": {},
   "source": [
    "## 값을 정수로 지정하기 "
   ]
  },
  {
   "cell_type": "code",
   "execution_count": 61,
   "id": "dfb43dca",
   "metadata": {},
   "outputs": [],
   "source": [
    "class Skill(int, Enum):\n",
    "    HTML = auto()\n",
    "    CSS = auto()\n",
    "    JS = auto()"
   ]
  },
  {
   "cell_type": "code",
   "execution_count": 62,
   "id": "c3b0483e",
   "metadata": {},
   "outputs": [
    {
     "name": "stdout",
     "output_type": "stream",
     "text": [
      "Skill.HTML, 1\n",
      "Skill.CSS, 2\n",
      "Skill.JS, 3\n"
     ]
    }
   ],
   "source": [
    "for skill in Skill :\n",
    "    print(skill, skill.value,sep=\", \")"
   ]
  },
  {
   "cell_type": "code",
   "execution_count": null,
   "id": "d9ecb079",
   "metadata": {},
   "outputs": [],
   "source": []
  },
  {
   "cell_type": "code",
   "execution_count": null,
   "id": "ece2ef51",
   "metadata": {},
   "outputs": [],
   "source": []
  },
  {
   "cell_type": "markdown",
   "id": "1d7bf68a",
   "metadata": {},
   "source": [
    "## 4 enum mixin\n",
    "\n",
    "- enum 타입을 사용할 때 한 가지 불편할 수 있는 점은 상수의 이름이나 값에 접근할 때 name이나 value 속성을 사용해야 한다는 것입니다."
   ]
  },
  {
   "cell_type": "code",
   "execution_count": 64,
   "id": "b9abd01b",
   "metadata": {},
   "outputs": [],
   "source": [
    "class Skill(Enum):\n",
    "    def _generate_next_value_(name, start, count, last_values):\n",
    "        return name\n",
    "\n",
    "    HTML = auto()\n",
    "    CSS = auto()\n",
    "    JS = auto()"
   ]
  },
  {
   "cell_type": "code",
   "execution_count": 65,
   "id": "da39b63a",
   "metadata": {},
   "outputs": [
    {
     "name": "stdout",
     "output_type": "stream",
     "text": [
      "HTML\n",
      "CSS\n",
      "JS\n"
     ]
    }
   ],
   "source": [
    "for skill in Skill :\n",
    "    print(skill.value)"
   ]
  },
  {
   "cell_type": "code",
   "execution_count": 66,
   "id": "67d0c0fd",
   "metadata": {},
   "outputs": [
    {
     "data": {
      "text/plain": [
       "True"
      ]
     },
     "execution_count": 66,
     "metadata": {},
     "output_type": "execute_result"
    }
   ],
   "source": [
    "Skill.HTML.name == 'HTML'"
   ]
  },
  {
   "cell_type": "code",
   "execution_count": 67,
   "id": "9a282431",
   "metadata": {},
   "outputs": [
    {
     "data": {
      "text/plain": [
       "False"
      ]
     },
     "execution_count": 67,
     "metadata": {},
     "output_type": "execute_result"
    }
   ],
   "source": [
    "Skill.HTML.value == 1"
   ]
  },
  {
   "cell_type": "code",
   "execution_count": 68,
   "id": "22241620",
   "metadata": {},
   "outputs": [
    {
     "data": {
      "text/plain": [
       "False"
      ]
     },
     "execution_count": 68,
     "metadata": {},
     "output_type": "execute_result"
    }
   ],
   "source": [
    "Skill.HTML == 'HTML'"
   ]
  },
  {
   "cell_type": "code",
   "execution_count": 69,
   "id": "1652482e",
   "metadata": {},
   "outputs": [
    {
     "data": {
      "text/plain": [
       "<enum 'Skill'>"
      ]
     },
     "execution_count": 69,
     "metadata": {},
     "output_type": "execute_result"
    }
   ],
   "source": [
    "type(Skill.HTML)"
   ]
  },
  {
   "cell_type": "code",
   "execution_count": null,
   "id": "e9e4a325",
   "metadata": {},
   "outputs": [],
   "source": []
  },
  {
   "cell_type": "code",
   "execution_count": 70,
   "id": "86ad65f2",
   "metadata": {},
   "outputs": [],
   "source": [
    "class StrEnum(str, Enum):\n",
    "    def _generate_next_value_(name, start, count, last_values):\n",
    "        return name\n",
    "\n",
    "    def __repr__(self):\n",
    "        return self.name\n",
    "\n",
    "    def __str__(self):\n",
    "        return self.name"
   ]
  },
  {
   "cell_type": "code",
   "execution_count": 71,
   "id": "33588038",
   "metadata": {},
   "outputs": [],
   "source": [
    "class Skill(StrEnum):\n",
    "    HTML = auto()\n",
    "    CSS = auto()\n",
    "    JS = auto()"
   ]
  },
  {
   "cell_type": "code",
   "execution_count": 72,
   "id": "30149523",
   "metadata": {},
   "outputs": [
    {
     "name": "stdout",
     "output_type": "stream",
     "text": [
      "HTML, HTML\n",
      "CSS, CSS\n",
      "JS, JS\n"
     ]
    }
   ],
   "source": [
    "for skill in Skill :\n",
    "    print(skill, skill.value,sep=\", \")"
   ]
  },
  {
   "cell_type": "code",
   "execution_count": null,
   "id": "0c83a87c",
   "metadata": {},
   "outputs": [],
   "source": []
  },
  {
   "cell_type": "code",
   "execution_count": null,
   "id": "373d81f1",
   "metadata": {},
   "outputs": [],
   "source": []
  },
  {
   "cell_type": "markdown",
   "id": "30f650e3",
   "metadata": {},
   "source": [
    "## 이넘 내부의 값은 변경할 수 없다. "
   ]
  },
  {
   "cell_type": "code",
   "execution_count": 73,
   "id": "69308dc0",
   "metadata": {},
   "outputs": [],
   "source": [
    "class Suit (str, enum.Enum) :\n",
    "    Club = \"♣️\"\n",
    "    Diamond = \"♦️\"\n",
    "    Heart=\"❤️ \"\n",
    "    Spade = \"♠️\""
   ]
  },
  {
   "cell_type": "code",
   "execution_count": 74,
   "id": "7c4f6781",
   "metadata": {},
   "outputs": [
    {
     "data": {
      "text/plain": [
       "<Suit.Club: '♣️'>"
      ]
     },
     "execution_count": 74,
     "metadata": {},
     "output_type": "execute_result"
    }
   ],
   "source": [
    "Suit.Club"
   ]
  },
  {
   "cell_type": "code",
   "execution_count": 75,
   "id": "4e58da2b",
   "metadata": {},
   "outputs": [
    {
     "data": {
      "text/plain": [
       "'♣️'"
      ]
     },
     "execution_count": 75,
     "metadata": {},
     "output_type": "execute_result"
    }
   ],
   "source": [
    "Suit.Club.value"
   ]
  },
  {
   "cell_type": "markdown",
   "id": "903d0be4",
   "metadata": {},
   "source": [
    "## 변경할 수 없다. "
   ]
  },
  {
   "cell_type": "code",
   "execution_count": 76,
   "id": "146698a9",
   "metadata": {},
   "outputs": [
    {
     "ename": "AttributeError",
     "evalue": "<enum 'Enum'> cannot set attribute 'value'",
     "output_type": "error",
     "traceback": [
      "\u001b[0;31m---------------------------------------------------------------------------\u001b[0m",
      "\u001b[0;31mAttributeError\u001b[0m                            Traceback (most recent call last)",
      "Cell \u001b[0;32mIn[76], line 1\u001b[0m\n\u001b[0;32m----> 1\u001b[0m \u001b[43mSuit\u001b[49m\u001b[38;5;241;43m.\u001b[39;49m\u001b[43mClub\u001b[49m\u001b[38;5;241;43m.\u001b[39;49m\u001b[43mvalue\u001b[49m  \u001b[38;5;241m=\u001b[39m \u001b[38;5;124m'\u001b[39m\u001b[38;5;124mH\u001b[39m\u001b[38;5;124m'\u001b[39m\n",
      "File \u001b[0;32m~/opt/anaconda3/envs/fluentPython/lib/python3.11/enum.py:210\u001b[0m, in \u001b[0;36mproperty.__set__\u001b[0;34m(self, instance, value)\u001b[0m\n\u001b[1;32m    208\u001b[0m \u001b[38;5;28;01mdef\u001b[39;00m \u001b[38;5;21m__set__\u001b[39m(\u001b[38;5;28mself\u001b[39m, instance, value):\n\u001b[1;32m    209\u001b[0m     \u001b[38;5;28;01mif\u001b[39;00m \u001b[38;5;28mself\u001b[39m\u001b[38;5;241m.\u001b[39mfset \u001b[38;5;129;01mis\u001b[39;00m \u001b[38;5;28;01mNone\u001b[39;00m:\n\u001b[0;32m--> 210\u001b[0m         \u001b[38;5;28;01mraise\u001b[39;00m \u001b[38;5;167;01mAttributeError\u001b[39;00m(\n\u001b[1;32m    211\u001b[0m                 \u001b[38;5;124m\"\u001b[39m\u001b[38;5;124m<enum \u001b[39m\u001b[38;5;132;01m%r\u001b[39;00m\u001b[38;5;124m> cannot set attribute \u001b[39m\u001b[38;5;132;01m%r\u001b[39;00m\u001b[38;5;124m\"\u001b[39m \u001b[38;5;241m%\u001b[39m (\u001b[38;5;28mself\u001b[39m\u001b[38;5;241m.\u001b[39mclsname, \u001b[38;5;28mself\u001b[39m\u001b[38;5;241m.\u001b[39mname)\n\u001b[1;32m    212\u001b[0m                 )\n\u001b[1;32m    213\u001b[0m     \u001b[38;5;28;01melse\u001b[39;00m:\n\u001b[1;32m    214\u001b[0m         \u001b[38;5;28;01mreturn\u001b[39;00m \u001b[38;5;28mself\u001b[39m\u001b[38;5;241m.\u001b[39mfset(instance, value)\n",
      "\u001b[0;31mAttributeError\u001b[0m: <enum 'Enum'> cannot set attribute 'value'"
     ]
    }
   ],
   "source": [
    "Suit.Club.value  = 'H'"
   ]
  },
  {
   "cell_type": "code",
   "execution_count": null,
   "id": "5dfc66d1",
   "metadata": {},
   "outputs": [],
   "source": []
  }
 ],
 "metadata": {
  "kernelspec": {
   "display_name": "Python 3 (ipykernel)",
   "language": "python",
   "name": "python3"
  },
  "language_info": {
   "codemirror_mode": {
    "name": "ipython",
    "version": 3
   },
   "file_extension": ".py",
   "mimetype": "text/x-python",
   "name": "python",
   "nbconvert_exporter": "python",
   "pygments_lexer": "ipython3",
   "version": "3.11.3"
  }
 },
 "nbformat": 4,
 "nbformat_minor": 5
}
