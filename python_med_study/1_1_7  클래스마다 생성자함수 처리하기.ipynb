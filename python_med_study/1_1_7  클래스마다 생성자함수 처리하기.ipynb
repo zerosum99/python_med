{
 "cells": [
  {
   "cell_type": "code",
   "execution_count": null,
   "id": "64bbe420",
   "metadata": {},
   "outputs": [],
   "source": []
  },
  {
   "cell_type": "markdown",
   "id": "d2c9930b",
   "metadata": {},
   "source": [
    "## 1. 상속 처리하기 "
   ]
  },
  {
   "cell_type": "code",
   "execution_count": 3,
   "id": "00c0ebab",
   "metadata": {},
   "outputs": [],
   "source": [
    "import enum"
   ]
  },
  {
   "cell_type": "code",
   "execution_count": 4,
   "id": "084838db",
   "metadata": {},
   "outputs": [],
   "source": [
    "class Suit (str, enum.Enum) :\n",
    "    Club = \"♣️\"\n",
    "    Diamond = \"♦️\"\n",
    "    Heart=\"❤️ \"\n",
    "    Spade = \"♠️\""
   ]
  },
  {
   "cell_type": "code",
   "execution_count": null,
   "id": "931cc28d",
   "metadata": {},
   "outputs": [],
   "source": []
  },
  {
   "cell_type": "code",
   "execution_count": 5,
   "id": "6d6a2a0c",
   "metadata": {},
   "outputs": [],
   "source": [
    "class Card :\n",
    "    def __init__(self, rank:str, suit:Suit, hard:int, soft:int) -> None :\n",
    "        self.rank = rank\n",
    "        self.suit = suit\n",
    "        self.hard = hard\n",
    "        self.soft = soft\n",
    "        "
   ]
  },
  {
   "cell_type": "code",
   "execution_count": null,
   "id": "daf76707",
   "metadata": {},
   "outputs": [],
   "source": []
  },
  {
   "cell_type": "code",
   "execution_count": 12,
   "id": "26b09886",
   "metadata": {},
   "outputs": [],
   "source": [
    "class NumberCard(Card) :\n",
    "    def __init__(self, rank:int, suit:Suit) -> None :\n",
    "        super().__init__(str(rank),suit,rank,rank)"
   ]
  },
  {
   "cell_type": "code",
   "execution_count": 13,
   "id": "2027c4a7",
   "metadata": {},
   "outputs": [],
   "source": [
    "class AceCard(Card) :\n",
    "    def __init__(self, rank:str, suit:Suit) -> None :\n",
    "        super().__init__(\"A\",suit,1,11)"
   ]
  },
  {
   "cell_type": "code",
   "execution_count": 17,
   "id": "92135ff7",
   "metadata": {},
   "outputs": [],
   "source": [
    "class FaceCard(Card) :\n",
    "    def __init__(self, rank:int, suit:Suit) -> None :\n",
    "        rank_str= {11:\"J\", 12:\"Q\", 13:\"K\"}[rank]\n",
    "        super().__init__(rank_str,suit,10,10)\n",
    "        "
   ]
  },
  {
   "cell_type": "code",
   "execution_count": null,
   "id": "51fdad71",
   "metadata": {},
   "outputs": [],
   "source": []
  },
  {
   "cell_type": "code",
   "execution_count": 18,
   "id": "b190ae5f",
   "metadata": {},
   "outputs": [],
   "source": [
    "def card(rank:int, suit:Suit) -> Card :\n",
    "    if rank == 1 :\n",
    "        return AceCard(rank,suit)\n",
    "    elif 2 <= rank < 11 :\n",
    "        return NumberCard(rank,suit)\n",
    "    elif 11<= rank <14 :\n",
    "        return FaceCard(rank,suit)\n",
    "    else :\n",
    "        raise Exception(\" rank out of range\")"
   ]
  },
  {
   "cell_type": "code",
   "execution_count": null,
   "id": "d60de929",
   "metadata": {},
   "outputs": [],
   "source": []
  },
  {
   "cell_type": "code",
   "execution_count": 19,
   "id": "d4f44512",
   "metadata": {},
   "outputs": [],
   "source": [
    "deck = [card(rank,suit) for rank in range(1,14) for suit in iter(Suit)]"
   ]
  },
  {
   "cell_type": "code",
   "execution_count": 21,
   "id": "eed3ee02",
   "metadata": {},
   "outputs": [
    {
     "data": {
      "text/plain": [
       "52"
      ]
     },
     "execution_count": 21,
     "metadata": {},
     "output_type": "execute_result"
    }
   ],
   "source": [
    "len(deck)"
   ]
  },
  {
   "cell_type": "code",
   "execution_count": 20,
   "id": "aae042dd",
   "metadata": {},
   "outputs": [
    {
     "name": "stdout",
     "output_type": "stream",
     "text": [
      "A Suit.Club\n",
      "A Suit.Diamond\n",
      "A Suit.Heart\n",
      "A Suit.Spade\n",
      "2 Suit.Club\n",
      "2 Suit.Diamond\n",
      "2 Suit.Heart\n",
      "2 Suit.Spade\n",
      "3 Suit.Club\n",
      "3 Suit.Diamond\n",
      "3 Suit.Heart\n",
      "3 Suit.Spade\n",
      "4 Suit.Club\n",
      "4 Suit.Diamond\n",
      "4 Suit.Heart\n",
      "4 Suit.Spade\n",
      "5 Suit.Club\n",
      "5 Suit.Diamond\n",
      "5 Suit.Heart\n",
      "5 Suit.Spade\n",
      "6 Suit.Club\n",
      "6 Suit.Diamond\n",
      "6 Suit.Heart\n",
      "6 Suit.Spade\n",
      "7 Suit.Club\n",
      "7 Suit.Diamond\n",
      "7 Suit.Heart\n",
      "7 Suit.Spade\n",
      "8 Suit.Club\n",
      "8 Suit.Diamond\n",
      "8 Suit.Heart\n",
      "8 Suit.Spade\n",
      "9 Suit.Club\n",
      "9 Suit.Diamond\n",
      "9 Suit.Heart\n",
      "9 Suit.Spade\n",
      "10 Suit.Club\n",
      "10 Suit.Diamond\n",
      "10 Suit.Heart\n",
      "10 Suit.Spade\n",
      "J Suit.Club\n",
      "J Suit.Diamond\n",
      "J Suit.Heart\n",
      "J Suit.Spade\n",
      "Q Suit.Club\n",
      "Q Suit.Diamond\n",
      "Q Suit.Heart\n",
      "Q Suit.Spade\n",
      "K Suit.Club\n",
      "K Suit.Diamond\n",
      "K Suit.Heart\n",
      "K Suit.Spade\n"
     ]
    }
   ],
   "source": [
    "for d in deck:\n",
    "    print(d.rank, d.suit)"
   ]
  },
  {
   "cell_type": "code",
   "execution_count": null,
   "id": "f48dcb2d",
   "metadata": {},
   "outputs": [],
   "source": []
  },
  {
   "cell_type": "code",
   "execution_count": 22,
   "id": "7f159929",
   "metadata": {},
   "outputs": [],
   "source": [
    "import random"
   ]
  },
  {
   "cell_type": "code",
   "execution_count": 25,
   "id": "9bf508b4",
   "metadata": {},
   "outputs": [],
   "source": [
    "random.shuffle(deck)"
   ]
  },
  {
   "cell_type": "code",
   "execution_count": 26,
   "id": "ec4657a6",
   "metadata": {},
   "outputs": [],
   "source": [
    "d = deck.copy()"
   ]
  },
  {
   "cell_type": "code",
   "execution_count": 27,
   "id": "cd611d62",
   "metadata": {},
   "outputs": [],
   "source": [
    "hand = [d.pop(),d.pop()]"
   ]
  },
  {
   "cell_type": "code",
   "execution_count": 28,
   "id": "f6b83bb6",
   "metadata": {},
   "outputs": [
    {
     "data": {
      "text/plain": [
       "[<__main__.NumberCard at 0x11a290310>, <__main__.NumberCard at 0x11a2a4210>]"
      ]
     },
     "execution_count": 28,
     "metadata": {},
     "output_type": "execute_result"
    }
   ],
   "source": [
    "hand"
   ]
  },
  {
   "cell_type": "code",
   "execution_count": 32,
   "id": "48fd6e0a",
   "metadata": {},
   "outputs": [
    {
     "data": {
      "text/plain": [
       "('3', <Suit.Club: '♣️'>)"
      ]
     },
     "execution_count": 32,
     "metadata": {},
     "output_type": "execute_result"
    }
   ],
   "source": [
    "hand[0].rank,hand[0].suit"
   ]
  },
  {
   "cell_type": "code",
   "execution_count": 33,
   "id": "76b7ab00",
   "metadata": {},
   "outputs": [
    {
     "data": {
      "text/plain": [
       "('9', <Suit.Club: '♣️'>)"
      ]
     },
     "execution_count": 33,
     "metadata": {},
     "output_type": "execute_result"
    }
   ],
   "source": [
    "hand[1].rank,hand[1].suit"
   ]
  },
  {
   "cell_type": "markdown",
   "id": "440b9f6a",
   "metadata": {},
   "source": [
    "## 2. 래핑 (wrapping)을 통한 컬렉션 처리하기\n",
    "\n",
    "- 기존 컬렉션 정의를 간략한 인터페이스로 감싸는 디지인 전략이다.  퍼사드(Facade) 디자인 패턴의 예"
   ]
  },
  {
   "cell_type": "code",
   "execution_count": null,
   "id": "863a0199",
   "metadata": {},
   "outputs": [],
   "source": []
  },
  {
   "cell_type": "code",
   "execution_count": 34,
   "id": "e11d24e5",
   "metadata": {},
   "outputs": [],
   "source": [
    "class Deck :\n",
    "    def __init__(self) -> None :\n",
    "        self._cards = [card(rank,suit) for rank in range(1,14) for suit in iter(Suit)]\n",
    "        random.shuffle(self._cards)\n",
    "        \n",
    "    def pop(self) -> Card :\n",
    "        return self._cards.pop()"
   ]
  },
  {
   "cell_type": "code",
   "execution_count": null,
   "id": "f36ac103",
   "metadata": {},
   "outputs": [],
   "source": []
  },
  {
   "cell_type": "code",
   "execution_count": 35,
   "id": "68eefbb7",
   "metadata": {},
   "outputs": [],
   "source": [
    "d = Deck()"
   ]
  },
  {
   "cell_type": "code",
   "execution_count": 55,
   "id": "40d8610a",
   "metadata": {},
   "outputs": [],
   "source": [
    "hand = [d.pop(), d.pop()]"
   ]
  },
  {
   "cell_type": "code",
   "execution_count": 56,
   "id": "3f1625df",
   "metadata": {},
   "outputs": [
    {
     "data": {
      "text/plain": [
       "('5', <Suit.Club: '♣️'>)"
      ]
     },
     "execution_count": 56,
     "metadata": {},
     "output_type": "execute_result"
    }
   ],
   "source": [
    "hand[0].rank,hand[0].suit"
   ]
  },
  {
   "cell_type": "markdown",
   "id": "3b11db87",
   "metadata": {},
   "source": [
    "## 3.확장(extend)을 통한 컬렉션 처리하기 \n",
    "\n",
    "- 기존 컬렉션 클래스로 시작해 기능을 추가해 확장하는 디자인 패턴 "
   ]
  },
  {
   "cell_type": "markdown",
   "id": "e112d565",
   "metadata": {},
   "source": [
    "## 리스트 확장 : list"
   ]
  },
  {
   "cell_type": "code",
   "execution_count": 57,
   "id": "eabd9c93",
   "metadata": {},
   "outputs": [],
   "source": [
    "class Deck2(list) : \n",
    "    def __init__(self) -> None :\n",
    "        super().__init__([card(r,s) for r in range(1,14) for s in iter(Suit)])\n",
    "        random.shuffle(self)"
   ]
  },
  {
   "cell_type": "code",
   "execution_count": 58,
   "id": "277ba0f9",
   "metadata": {},
   "outputs": [],
   "source": [
    "d2 = Deck2()"
   ]
  },
  {
   "cell_type": "code",
   "execution_count": 54,
   "id": "3e1b514a",
   "metadata": {},
   "outputs": [],
   "source": [
    "hand2 = [d2.pop(), d2.pop()]"
   ]
  },
  {
   "cell_type": "code",
   "execution_count": 59,
   "id": "7c6f3594",
   "metadata": {},
   "outputs": [
    {
     "data": {
      "text/plain": [
       "('4', <Suit.Heart: '❤️ '>)"
      ]
     },
     "execution_count": 59,
     "metadata": {},
     "output_type": "execute_result"
    }
   ],
   "source": [
    "hand2[0].rank,hand2[0].suit"
   ]
  },
  {
   "cell_type": "code",
   "execution_count": null,
   "id": "4baec4b5",
   "metadata": {},
   "outputs": [],
   "source": []
  },
  {
   "cell_type": "markdown",
   "id": "4135e6e5",
   "metadata": {},
   "source": [
    "## 리스트 확장 : UserList"
   ]
  },
  {
   "cell_type": "code",
   "execution_count": 65,
   "id": "739abe4b",
   "metadata": {},
   "outputs": [],
   "source": [
    "import collections"
   ]
  },
  {
   "cell_type": "code",
   "execution_count": 66,
   "id": "b80d37f4",
   "metadata": {},
   "outputs": [
    {
     "data": {
      "text/plain": [
       "['ChainMap',\n",
       " 'Counter',\n",
       " 'OrderedDict',\n",
       " 'UserDict',\n",
       " 'UserList',\n",
       " 'UserString',\n",
       " '_Link',\n",
       " '_OrderedDictItemsView',\n",
       " '_OrderedDictKeysView',\n",
       " '_OrderedDictValuesView',\n",
       " '__all__',\n",
       " '__builtins__',\n",
       " '__cached__',\n",
       " '__doc__',\n",
       " '__file__',\n",
       " '__loader__',\n",
       " '__name__',\n",
       " '__package__',\n",
       " '__path__',\n",
       " '__spec__',\n",
       " '_chain',\n",
       " '_collections_abc',\n",
       " '_count_elements',\n",
       " '_eq',\n",
       " '_iskeyword',\n",
       " '_itemgetter',\n",
       " '_proxy',\n",
       " '_recursive_repr',\n",
       " '_repeat',\n",
       " '_starmap',\n",
       " '_sys',\n",
       " '_tuplegetter',\n",
       " 'abc',\n",
       " 'defaultdict',\n",
       " 'deque',\n",
       " 'namedtuple']"
      ]
     },
     "execution_count": 66,
     "metadata": {},
     "output_type": "execute_result"
    }
   ],
   "source": [
    "dir(collections)"
   ]
  },
  {
   "cell_type": "code",
   "execution_count": null,
   "id": "05a093bc",
   "metadata": {},
   "outputs": [],
   "source": []
  },
  {
   "cell_type": "code",
   "execution_count": 67,
   "id": "359c9520",
   "metadata": {},
   "outputs": [],
   "source": [
    "class Deck3(collections.UserList) : \n",
    "    def __init__(self) -> None :\n",
    "        super().__init__([card(r,s) for r in range(1,14) for s in iter(Suit)])\n",
    "        random.shuffle(self)"
   ]
  },
  {
   "cell_type": "code",
   "execution_count": 68,
   "id": "289352d5",
   "metadata": {},
   "outputs": [],
   "source": [
    "d3 = Deck3()"
   ]
  },
  {
   "cell_type": "code",
   "execution_count": 69,
   "id": "a8dec99b",
   "metadata": {},
   "outputs": [],
   "source": [
    "hand3 = [d3.pop(), d3.pop()]"
   ]
  },
  {
   "cell_type": "code",
   "execution_count": 70,
   "id": "07c2f386",
   "metadata": {},
   "outputs": [
    {
     "data": {
      "text/plain": [
       "('5', <Suit.Club: '♣️'>)"
      ]
     },
     "execution_count": 70,
     "metadata": {},
     "output_type": "execute_result"
    }
   ],
   "source": [
    "hand3[0].rank,hand3[0].suit"
   ]
  },
  {
   "cell_type": "code",
   "execution_count": null,
   "id": "8470b0fd",
   "metadata": {},
   "outputs": [],
   "source": []
  }
 ],
 "metadata": {
  "kernelspec": {
   "display_name": "Python 3 (ipykernel)",
   "language": "python",
   "name": "python3"
  },
  "language_info": {
   "codemirror_mode": {
    "name": "ipython",
    "version": 3
   },
   "file_extension": ".py",
   "mimetype": "text/x-python",
   "name": "python",
   "nbconvert_exporter": "python",
   "pygments_lexer": "ipython3",
   "version": "3.11.3"
  }
 },
 "nbformat": 4,
 "nbformat_minor": 5
}
