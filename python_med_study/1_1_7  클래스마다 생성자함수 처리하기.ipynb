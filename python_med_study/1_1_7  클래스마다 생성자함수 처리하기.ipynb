{
 "cells": [
  {
   "cell_type": "code",
   "execution_count": null,
   "id": "22f2c03f",
   "metadata": {},
   "outputs": [],
   "source": []
  },
  {
   "cell_type": "code",
   "execution_count": 3,
   "id": "52ca5d5d",
   "metadata": {},
   "outputs": [],
   "source": [
    "import enum"
   ]
  },
  {
   "cell_type": "code",
   "execution_count": 4,
   "id": "ad344353",
   "metadata": {},
   "outputs": [],
   "source": [
    "class Suit (str, enum.Enum) :\n",
    "    Club = \"♣️\"\n",
    "    Diamond = \"♦️\"\n",
    "    Heart=\"❤️ \"\n",
    "    Spade = \"♠️\""
   ]
  },
  {
   "cell_type": "code",
   "execution_count": null,
   "id": "d2b6cb02",
   "metadata": {},
   "outputs": [],
   "source": []
  },
  {
   "cell_type": "code",
   "execution_count": 5,
   "id": "cb29b733",
   "metadata": {},
   "outputs": [],
   "source": [
    "class Card :\n",
    "    def __init__(self, rank:str, suit:Suit, hard:int, soft:int) -> None :\n",
    "        self.rank = rank\n",
    "        self.suit = suit\n",
    "        self.hard = hard\n",
    "        self.soft = soft\n",
    "        "
   ]
  },
  {
   "cell_type": "code",
   "execution_count": null,
   "id": "c502e5a2",
   "metadata": {},
   "outputs": [],
   "source": []
  },
  {
   "cell_type": "code",
   "execution_count": 12,
   "id": "19041047",
   "metadata": {},
   "outputs": [],
   "source": [
    "class NumberCard(Card) :\n",
    "    def __init__(self, rank:int, suit:Suit) -> None :\n",
    "        super().__init__(str(rank),suit,rank,rank)"
   ]
  },
  {
   "cell_type": "code",
   "execution_count": 13,
   "id": "bf47a4b2",
   "metadata": {},
   "outputs": [],
   "source": [
    "class AceCard(Card) :\n",
    "    def __init__(self, rank:str, suit:Suit) -> None :\n",
    "        super().__init__(\"A\",suit,1,11)"
   ]
  },
  {
   "cell_type": "code",
   "execution_count": 17,
   "id": "50658281",
   "metadata": {},
   "outputs": [],
   "source": [
    "class FaceCard(Card) :\n",
    "    def __init__(self, rank:int, suit:Suit) -> None :\n",
    "        rank_str= {11:\"J\", 12:\"Q\", 13:\"K\"}[rank]\n",
    "        super().__init__(rank_str,suit,10,10)\n",
    "        "
   ]
  },
  {
   "cell_type": "code",
   "execution_count": null,
   "id": "e1c6acee",
   "metadata": {},
   "outputs": [],
   "source": []
  },
  {
   "cell_type": "code",
   "execution_count": 18,
   "id": "2b5381fb",
   "metadata": {},
   "outputs": [],
   "source": [
    "def card(rank:int, suit:Suit) -> Card :\n",
    "    if rank == 1 :\n",
    "        return AceCard(rank,suit)\n",
    "    elif 2 <= rank < 11 :\n",
    "        return NumberCard(rank,suit)\n",
    "    elif 11<= rank <14 :\n",
    "        return FaceCard(rank,suit)\n",
    "    else :\n",
    "        raise Exception(\" rank out of range\")"
   ]
  },
  {
   "cell_type": "code",
   "execution_count": null,
   "id": "8d2ba374",
   "metadata": {},
   "outputs": [],
   "source": []
  },
  {
   "cell_type": "code",
   "execution_count": 19,
   "id": "12691a91",
   "metadata": {},
   "outputs": [],
   "source": [
    "deck = [card(rank,suit) for rank in range(1,14) for suit in iter(Suit)]"
   ]
  },
  {
   "cell_type": "code",
   "execution_count": 21,
   "id": "950ab68f",
   "metadata": {},
   "outputs": [
    {
     "data": {
      "text/plain": [
       "52"
      ]
     },
     "execution_count": 21,
     "metadata": {},
     "output_type": "execute_result"
    }
   ],
   "source": [
    "len(deck)"
   ]
  },
  {
   "cell_type": "code",
   "execution_count": 20,
   "id": "bd8b440a",
   "metadata": {},
   "outputs": [
    {
     "name": "stdout",
     "output_type": "stream",
     "text": [
      "A Suit.Club\n",
      "A Suit.Diamond\n",
      "A Suit.Heart\n",
      "A Suit.Spade\n",
      "2 Suit.Club\n",
      "2 Suit.Diamond\n",
      "2 Suit.Heart\n",
      "2 Suit.Spade\n",
      "3 Suit.Club\n",
      "3 Suit.Diamond\n",
      "3 Suit.Heart\n",
      "3 Suit.Spade\n",
      "4 Suit.Club\n",
      "4 Suit.Diamond\n",
      "4 Suit.Heart\n",
      "4 Suit.Spade\n",
      "5 Suit.Club\n",
      "5 Suit.Diamond\n",
      "5 Suit.Heart\n",
      "5 Suit.Spade\n",
      "6 Suit.Club\n",
      "6 Suit.Diamond\n",
      "6 Suit.Heart\n",
      "6 Suit.Spade\n",
      "7 Suit.Club\n",
      "7 Suit.Diamond\n",
      "7 Suit.Heart\n",
      "7 Suit.Spade\n",
      "8 Suit.Club\n",
      "8 Suit.Diamond\n",
      "8 Suit.Heart\n",
      "8 Suit.Spade\n",
      "9 Suit.Club\n",
      "9 Suit.Diamond\n",
      "9 Suit.Heart\n",
      "9 Suit.Spade\n",
      "10 Suit.Club\n",
      "10 Suit.Diamond\n",
      "10 Suit.Heart\n",
      "10 Suit.Spade\n",
      "J Suit.Club\n",
      "J Suit.Diamond\n",
      "J Suit.Heart\n",
      "J Suit.Spade\n",
      "Q Suit.Club\n",
      "Q Suit.Diamond\n",
      "Q Suit.Heart\n",
      "Q Suit.Spade\n",
      "K Suit.Club\n",
      "K Suit.Diamond\n",
      "K Suit.Heart\n",
      "K Suit.Spade\n"
     ]
    }
   ],
   "source": [
    "for d in deck:\n",
    "    print(d.rank, d.suit)"
   ]
  },
  {
   "cell_type": "code",
   "execution_count": null,
   "id": "37bf99ec",
   "metadata": {},
   "outputs": [],
   "source": []
  },
  {
   "cell_type": "code",
   "execution_count": null,
   "id": "95f71d6d",
   "metadata": {},
   "outputs": [],
   "source": []
  },
  {
   "cell_type": "code",
   "execution_count": null,
   "id": "359a23b2",
   "metadata": {},
   "outputs": [],
   "source": []
  }
 ],
 "metadata": {
  "kernelspec": {
   "display_name": "Python 3 (ipykernel)",
   "language": "python",
   "name": "python3"
  },
  "language_info": {
   "codemirror_mode": {
    "name": "ipython",
    "version": 3
   },
   "file_extension": ".py",
   "mimetype": "text/x-python",
   "name": "python",
   "nbconvert_exporter": "python",
   "pygments_lexer": "ipython3",
   "version": "3.11.3"
  }
 },
 "nbformat": 4,
 "nbformat_minor": 5
}
