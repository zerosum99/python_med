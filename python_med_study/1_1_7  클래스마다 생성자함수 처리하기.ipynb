{
 "cells": [
  {
   "cell_type": "code",
   "execution_count": null,
   "id": "164dfc6e",
   "metadata": {},
   "outputs": [],
   "source": []
  },
  {
   "cell_type": "code",
   "execution_count": 3,
   "id": "8d0103fc",
   "metadata": {},
   "outputs": [],
   "source": [
    "import enum"
   ]
  },
  {
   "cell_type": "code",
   "execution_count": 4,
   "id": "ef55aa29",
   "metadata": {},
   "outputs": [],
   "source": [
    "class Suit (str, enum.Enum) :\n",
    "    Club = \"♣️\"\n",
    "    Diamond = \"♦️\"\n",
    "    Heart=\"❤️ \"\n",
    "    Spade = \"♠️\""
   ]
  },
  {
   "cell_type": "code",
   "execution_count": null,
   "id": "9aac943e",
   "metadata": {},
   "outputs": [],
   "source": []
  },
  {
   "cell_type": "code",
   "execution_count": 5,
   "id": "0fd2bcb3",
   "metadata": {},
   "outputs": [],
   "source": [
    "class Card :\n",
    "    def __init__(self, rank:str, suit:Suit, hard:int, soft:int) -> None :\n",
    "        self.rank = rank\n",
    "        self.suit = suit\n",
    "        self.hard = hard\n",
    "        self.soft = soft\n",
    "        "
   ]
  },
  {
   "cell_type": "code",
   "execution_count": null,
   "id": "1113cf4a",
   "metadata": {},
   "outputs": [],
   "source": []
  },
  {
   "cell_type": "code",
   "execution_count": 12,
   "id": "39947bf6",
   "metadata": {},
   "outputs": [],
   "source": [
    "class NumberCard(Card) :\n",
    "    def __init__(self, rank:int, suit:Suit) -> None :\n",
    "        super().__init__(str(rank),suit,rank,rank)"
   ]
  },
  {
   "cell_type": "code",
   "execution_count": 13,
   "id": "314b5528",
   "metadata": {},
   "outputs": [],
   "source": [
    "class AceCard(Card) :\n",
    "    def __init__(self, rank:str, suit:Suit) -> None :\n",
    "        super().__init__(\"A\",suit,1,11)"
   ]
  },
  {
   "cell_type": "code",
   "execution_count": 17,
   "id": "d5b262da",
   "metadata": {},
   "outputs": [],
   "source": [
    "class FaceCard(Card) :\n",
    "    def __init__(self, rank:int, suit:Suit) -> None :\n",
    "        rank_str= {11:\"J\", 12:\"Q\", 13:\"K\"}[rank]\n",
    "        super().__init__(rank_str,suit,10,10)\n",
    "        "
   ]
  },
  {
   "cell_type": "code",
   "execution_count": null,
   "id": "28edcd2a",
   "metadata": {},
   "outputs": [],
   "source": []
  },
  {
   "cell_type": "code",
   "execution_count": 18,
   "id": "33935706",
   "metadata": {},
   "outputs": [],
   "source": [
    "def card(rank:int, suit:Suit) -> Card :\n",
    "    if rank == 1 :\n",
    "        return AceCard(rank,suit)\n",
    "    elif 2 <= rank < 11 :\n",
    "        return NumberCard(rank,suit)\n",
    "    elif 11<= rank <14 :\n",
    "        return FaceCard(rank,suit)\n",
    "    else :\n",
    "        raise Exception(\" rank out of range\")"
   ]
  },
  {
   "cell_type": "code",
   "execution_count": null,
   "id": "412d1fd0",
   "metadata": {},
   "outputs": [],
   "source": []
  },
  {
   "cell_type": "code",
   "execution_count": 19,
   "id": "e60c636c",
   "metadata": {},
   "outputs": [],
   "source": [
    "deck = [card(rank,suit) for rank in range(1,14) for suit in iter(Suit)]"
   ]
  },
  {
   "cell_type": "code",
   "execution_count": 21,
   "id": "6312aa4c",
   "metadata": {},
   "outputs": [
    {
     "data": {
      "text/plain": [
       "52"
      ]
     },
     "execution_count": 21,
     "metadata": {},
     "output_type": "execute_result"
    }
   ],
   "source": [
    "len(deck)"
   ]
  },
  {
   "cell_type": "code",
   "execution_count": 20,
   "id": "356dfe4f",
   "metadata": {},
   "outputs": [
    {
     "name": "stdout",
     "output_type": "stream",
     "text": [
      "A Suit.Club\n",
      "A Suit.Diamond\n",
      "A Suit.Heart\n",
      "A Suit.Spade\n",
      "2 Suit.Club\n",
      "2 Suit.Diamond\n",
      "2 Suit.Heart\n",
      "2 Suit.Spade\n",
      "3 Suit.Club\n",
      "3 Suit.Diamond\n",
      "3 Suit.Heart\n",
      "3 Suit.Spade\n",
      "4 Suit.Club\n",
      "4 Suit.Diamond\n",
      "4 Suit.Heart\n",
      "4 Suit.Spade\n",
      "5 Suit.Club\n",
      "5 Suit.Diamond\n",
      "5 Suit.Heart\n",
      "5 Suit.Spade\n",
      "6 Suit.Club\n",
      "6 Suit.Diamond\n",
      "6 Suit.Heart\n",
      "6 Suit.Spade\n",
      "7 Suit.Club\n",
      "7 Suit.Diamond\n",
      "7 Suit.Heart\n",
      "7 Suit.Spade\n",
      "8 Suit.Club\n",
      "8 Suit.Diamond\n",
      "8 Suit.Heart\n",
      "8 Suit.Spade\n",
      "9 Suit.Club\n",
      "9 Suit.Diamond\n",
      "9 Suit.Heart\n",
      "9 Suit.Spade\n",
      "10 Suit.Club\n",
      "10 Suit.Diamond\n",
      "10 Suit.Heart\n",
      "10 Suit.Spade\n",
      "J Suit.Club\n",
      "J Suit.Diamond\n",
      "J Suit.Heart\n",
      "J Suit.Spade\n",
      "Q Suit.Club\n",
      "Q Suit.Diamond\n",
      "Q Suit.Heart\n",
      "Q Suit.Spade\n",
      "K Suit.Club\n",
      "K Suit.Diamond\n",
      "K Suit.Heart\n",
      "K Suit.Spade\n"
     ]
    }
   ],
   "source": [
    "for d in deck:\n",
    "    print(d.rank, d.suit)"
   ]
  },
  {
   "cell_type": "code",
   "execution_count": null,
   "id": "f3e2ebfe",
   "metadata": {},
   "outputs": [],
   "source": []
  },
  {
   "cell_type": "code",
   "execution_count": 22,
   "id": "60b3fd32",
   "metadata": {},
   "outputs": [],
   "source": [
    "import random"
   ]
  },
  {
   "cell_type": "code",
   "execution_count": 25,
   "id": "6fb6ef45",
   "metadata": {},
   "outputs": [],
   "source": [
    "random.shuffle(deck)"
   ]
  },
  {
   "cell_type": "code",
   "execution_count": 26,
   "id": "4be65877",
   "metadata": {},
   "outputs": [],
   "source": [
    "d = deck.copy()"
   ]
  },
  {
   "cell_type": "code",
   "execution_count": 27,
   "id": "6129ecb9",
   "metadata": {},
   "outputs": [],
   "source": [
    "hand = [d.pop(),d.pop()]"
   ]
  },
  {
   "cell_type": "code",
   "execution_count": 28,
   "id": "92b5f1a4",
   "metadata": {},
   "outputs": [
    {
     "data": {
      "text/plain": [
       "[<__main__.NumberCard at 0x11a290310>, <__main__.NumberCard at 0x11a2a4210>]"
      ]
     },
     "execution_count": 28,
     "metadata": {},
     "output_type": "execute_result"
    }
   ],
   "source": [
    "hand"
   ]
  },
  {
   "cell_type": "code",
   "execution_count": 32,
   "id": "91f2f5c8",
   "metadata": {},
   "outputs": [
    {
     "data": {
      "text/plain": [
       "('3', <Suit.Club: '♣️'>)"
      ]
     },
     "execution_count": 32,
     "metadata": {},
     "output_type": "execute_result"
    }
   ],
   "source": [
    "hand[0].rank,hand[0].suit"
   ]
  },
  {
   "cell_type": "code",
   "execution_count": 33,
   "id": "3e59f1a7",
   "metadata": {},
   "outputs": [
    {
     "data": {
      "text/plain": [
       "('9', <Suit.Club: '♣️'>)"
      ]
     },
     "execution_count": 33,
     "metadata": {},
     "output_type": "execute_result"
    }
   ],
   "source": [
    "hand[1].rank,hand[1].suit"
   ]
  },
  {
   "cell_type": "markdown",
   "id": "fec603bc",
   "metadata": {},
   "source": [
    "## 래핑 (wrapping) \n",
    "\n",
    "- 기존 컬렉션 정의를 간략한 인터페이스로 감싸는 디지인 전략이다.  퍼사드(Facade) 디자인 패턴의 예"
   ]
  },
  {
   "cell_type": "code",
   "execution_count": null,
   "id": "f5c09b5a",
   "metadata": {},
   "outputs": [],
   "source": []
  },
  {
   "cell_type": "code",
   "execution_count": null,
   "id": "d31b81fe",
   "metadata": {},
   "outputs": [],
   "source": []
  },
  {
   "cell_type": "markdown",
   "id": "45f50cc5",
   "metadata": {},
   "source": [
    "## 확장(extend)\n",
    "\n",
    "- 기존 컬렉션 클래스로 시작해 기능을 추가해 확장하는 디자인 패턴 "
   ]
  },
  {
   "cell_type": "code",
   "execution_count": null,
   "id": "b9e4ce4d",
   "metadata": {},
   "outputs": [],
   "source": []
  }
 ],
 "metadata": {
  "kernelspec": {
   "display_name": "Python 3 (ipykernel)",
   "language": "python",
   "name": "python3"
  },
  "language_info": {
   "codemirror_mode": {
    "name": "ipython",
    "version": 3
   },
   "file_extension": ".py",
   "mimetype": "text/x-python",
   "name": "python",
   "nbconvert_exporter": "python",
   "pygments_lexer": "ipython3",
   "version": "3.11.3"
  }
 },
 "nbformat": 4,
 "nbformat_minor": 5
}
