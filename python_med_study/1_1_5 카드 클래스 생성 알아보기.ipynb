{
 "cells": [
  {
   "cell_type": "code",
   "execution_count": null,
   "id": "b76cc1bf",
   "metadata": {},
   "outputs": [],
   "source": []
  },
  {
   "cell_type": "code",
   "execution_count": 1,
   "id": "ae11c8f5",
   "metadata": {},
   "outputs": [],
   "source": [
    "from typing import Tuple"
   ]
  },
  {
   "cell_type": "code",
   "execution_count": 7,
   "id": "820f4da1",
   "metadata": {},
   "outputs": [],
   "source": [
    "class Card :\n",
    "    def __init__(self, rank:str, suit:str) -> None :\n",
    "        self.rank = rank\n",
    "        self.suit = suit\n",
    "        self.hard, self.soft = self._points()   # 내부에서 호출하는 메서드\n",
    "        \n",
    "    def _points(self) -> Tuple[int,int] :\n",
    "        return int(self.rank), int(self.rank)\n",
    "    "
   ]
  },
  {
   "cell_type": "code",
   "execution_count": 8,
   "id": "388f8e47",
   "metadata": {},
   "outputs": [],
   "source": [
    "class AceCard(Card) :\n",
    "    def _points(self) -> Tuple[int,int] :\n",
    "        return 1,11"
   ]
  },
  {
   "cell_type": "code",
   "execution_count": 9,
   "id": "85dee5d3",
   "metadata": {},
   "outputs": [],
   "source": [
    "class FaceCard(Card) :\n",
    "    def _points(self) -> Tuple[int,int] :\n",
    "        return 10,10"
   ]
  },
  {
   "cell_type": "code",
   "execution_count": 10,
   "id": "9406c18b",
   "metadata": {},
   "outputs": [],
   "source": [
    "cards = [AceCard('A','♣️'), Card('2','♣️'),FaceCard('J','♣️')]"
   ]
  },
  {
   "cell_type": "code",
   "execution_count": 12,
   "id": "d6f0a0b8",
   "metadata": {},
   "outputs": [
    {
     "data": {
      "text/plain": [
       "<__main__.AceCard at 0x103d1a010>"
      ]
     },
     "execution_count": 12,
     "metadata": {},
     "output_type": "execute_result"
    }
   ],
   "source": [
    "cards[0]"
   ]
  },
  {
   "cell_type": "code",
   "execution_count": 14,
   "id": "c040423c",
   "metadata": {},
   "outputs": [
    {
     "data": {
      "text/plain": [
       "('A', '♣️', 1, 11)"
      ]
     },
     "execution_count": 14,
     "metadata": {},
     "output_type": "execute_result"
    }
   ],
   "source": [
    "cards[0].rank, cards[0].suit, cards[0].hard, cards[0].soft"
   ]
  },
  {
   "cell_type": "code",
   "execution_count": null,
   "id": "74769377",
   "metadata": {},
   "outputs": [],
   "source": []
  }
 ],
 "metadata": {
  "kernelspec": {
   "display_name": "Python 3 (ipykernel)",
   "language": "python",
   "name": "python3"
  },
  "language_info": {
   "codemirror_mode": {
    "name": "ipython",
    "version": 3
   },
   "file_extension": ".py",
   "mimetype": "text/x-python",
   "name": "python",
   "nbconvert_exporter": "python",
   "pygments_lexer": "ipython3",
   "version": "3.11.3"
  }
 },
 "nbformat": 4,
 "nbformat_minor": 5
}
